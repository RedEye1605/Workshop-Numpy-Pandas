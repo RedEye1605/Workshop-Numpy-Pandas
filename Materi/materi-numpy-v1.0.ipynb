{
 "cells": [
  {
   "cell_type": "markdown",
   "id": "f8a2b81a-c52a-4e13-b380-47f670096993",
   "metadata": {},
   "source": [
    "<div style=\"text-align: center;\">\n",
    "    <img src=\"https://upload.wikimedia.org/wikipedia/commons/3/31/NumPy_logo_2020.svg\" alt=\"Numpy Logo\" width=\"500\">\n",
    "    <p style=\"font-size: 50px; font-weight: bold;\">Pengenalan NumPy pada Python</p>\n",
    "    <p style=\"font-size: 50px; font-weight: normal;\"> Intern BCC 2025</p>\n",
    "</div>"
   ]
  },
  {
   "cell_type": "markdown",
   "id": "914eec5b-edb9-4c7b-b6c2-c4e8ef792b6f",
   "metadata": {},
   "source": [
    "# Numpy 🧮"
   ]
  },
  {
   "cell_type": "markdown",
   "id": "06bbf15c-ecf2-461a-b1d5-40a1c2b8434d",
   "metadata": {},
   "source": [
    "**NumPy** atau Numerical Python adalah sebuah library Python yang menyediakan struktur data dan fungsi-fungsi untuk bekerja dengan array dan matriks multidimensi untuk kebutuhan scientific computing menggunakan Python.\n",
    "\n",
    "**NumPy** meningkatkan efisiensi dalam melakukan operasi dan manipulasi data dengan ukuran yang besar."
   ]
  },
  {
   "cell_type": "code",
   "execution_count": null,
   "id": "8f73a387-676f-4a09-aae7-6b4f43a33bc0",
   "metadata": {},
   "outputs": [],
   "source": [
    "# Kalau kamu menggunakan Google Colab atau Kaggle Notebook, umumnya package numpy sudah pre-installed.\n",
    "# !pip install numpy\n",
    "\n",
    "# if you want to install specific version, you can also do this\n",
    "# !pip install numpy==2.2.3"
   ]
  },
  {
   "cell_type": "markdown",
   "id": "fb06c1b3-6ee8-4a84-9ee0-c79222e05c2a",
   "metadata": {},
   "source": [
    "Fun fact nih,  numpy versi 2.0 keatas struktur internalnya agak berubah dengan versi 1.9 kebawah. Jadi saat awal rilis, ada beberapa package python yang dipakai buat deep learning (misalnya pytorch) itu gak kompatibel atau hanya kompatibel dengan versi numpy tertentu.\n",
    "\n",
    "ini merupakan kasus conflicted package dependencies di python\n",
    "- https://stackoverflow.com/questions/74979861/conflicting-package-versions-dependencies-in-python\n",
    "- https://stackoverflow.com/questions/71689095/how-to-solve-the-pytorch-runtimeerror-numpy-is-not-available-without-upgrading"
   ]
  },
  {
   "cell_type": "markdown",
   "id": "93fe7672-cfbf-4276-abda-f096002f4634",
   "metadata": {},
   "source": [
    "Untuk menggunakan numpy, kita harus import `numpy` package terlebih dahulu:"
   ]
  },
  {
   "cell_type": "code",
   "execution_count": 1,
   "id": "81f05a5e-33fe-4470-8e71-43850e2745a5",
   "metadata": {},
   "outputs": [],
   "source": [
    "import numpy as np # 'np' merupakan alias untuk package numpy paling umum"
   ]
  },
  {
   "cell_type": "markdown",
   "id": "1d4e2c5f-c43d-45aa-a4f0-20b8a48bd1ea",
   "metadata": {},
   "source": [
    "### Array Numpy"
   ]
  },
  {
   "cell_type": "code",
   "execution_count": 10,
   "id": "057b66d6-e513-42e3-8296-0e279aa50dcd",
   "metadata": {},
   "outputs": [
    {
     "name": "stdout",
     "output_type": "stream",
     "text": [
      "Array satu dimensi: \n",
      " [1 2 3]\n",
      "Array dua dimensi: \n",
      " [[1 2 3]\n",
      " [4 5 6]\n",
      " [7 8 9]]\n",
      "Array tiga dimensi: \n",
      " [[[ 1  2  3]\n",
      "  [ 4  5  6]]\n",
      "\n",
      " [[ 7  8  9]\n",
      "  [10 11 12]]]\n"
     ]
    }
   ],
   "source": [
    "arr1d = np.array([1,2,3]) # array satu dimensi\n",
    "\n",
    "arr2d = np.array([[1, 2, 3],\n",
    "                  [4, 5, 6],\n",
    "                  [7, 8, 9]]) # array dua dimensi\n",
    "\n",
    "arr3d = np.array([[[1, 2, 3], [4, 5, 6]], \n",
    "                  [[7, 8, 9], [10, 11, 12]]]) # array tiga dimensi\n",
    "\n",
    "\n",
    "print(\"Array satu dimensi: \\n\", arr1d)\n",
    "print(\"Array dua dimensi: \\n\", arr2d)\n",
    "print(\"Array tiga dimensi: \\n\", arr3d)"
   ]
  },
  {
   "cell_type": "markdown",
   "id": "f504e79b-b854-4487-956b-3b4d77b11fa8",
   "metadata": {},
   "source": [
    "### Menampilkan informasi tentang array 2D"
   ]
  },
  {
   "cell_type": "markdown",
   "id": "f77ae498-397c-4c27-95c6-ce33169eb7a2",
   "metadata": {},
   "source": [
    "- `.ndim`: Dimensi suatu array (1D, 2D or etc)\n",
    "- `.shape`: Ukuran suatu array, keluaran berupa python tuple dan menampilkan axis (dimensi) suatu array.\n",
    "- `.size`: Jumlah elemen dalam array. Contohnya arr2d memiliki 9 elemen\n",
    "- `.dtype`: Tipe data yang ada dalam array"
   ]
  },
  {
   "cell_type": "code",
   "execution_count": 12,
   "id": "20d1f77e-9bef-428f-95e1-32571e63574d",
   "metadata": {},
   "outputs": [
    {
     "name": "stdout",
     "output_type": "stream",
     "text": [
      "Dimensi Array 2D: 2\n",
      "Ukuran Array 2D: (3, 3)\n",
      "Jumlah elemen Array 2D: 9\n",
      "Tipe Data Array 2D: int64\n"
     ]
    }
   ],
   "source": [
    "print(\"Dimensi Array 2D:\", arr2d.ndim)\n",
    "print(\"Ukuran Array 2D:\", arr2d.shape)\n",
    "print(\"Jumlah elemen Array 2D:\", arr2d.size)\n",
    "print(\"Tipe Data Array 2D:\", arr2d.dtype)"
   ]
  },
  {
   "cell_type": "code",
   "execution_count": null,
   "id": "03814187-783a-4327-916f-51b4b088c5a4",
   "metadata": {},
   "outputs": [],
   "source": [
    "### Slicing dan Indexing Array"
   ]
  },
  {
   "cell_type": "code",
   "execution_count": null,
   "id": "079304b5-e239-40cd-b1cf-55a8c30cb7f3",
   "metadata": {},
   "outputs": [],
   "source": [
    "print(\"Element index ke-1 arr1d\\t\\t:\", arr1d[1])\n",
    "print(\"Element index ke-1 hingga 2 arr1d\\t:\", arr1d[1:3])\n",
    "print(\"Element baris ke-1 dan kolom ke-2\\t:\", arr2d[0:2, 0])"
   ]
  },
  {
   "cell_type": "code",
   "execution_count": null,
   "id": "2a6ae9fb-8813-4ee1-bd55-e3dff589ecc1",
   "metadata": {},
   "outputs": [],
   "source": [
    "### Menghitung Statistik"
   ]
  },
  {
   "cell_type": "code",
   "execution_count": null,
   "id": "6869a1b0-26bf-4a8e-b026-8aa3532fa003",
   "metadata": {},
   "outputs": [],
   "source": [
    "arr2d = np.array([[1, 2, 3],\n",
    "                  [4, 5, 6],\n",
    "                  [7, 8, 9]])\n",
    "\n",
    "# Menghitung statistik\n",
    "mean_value = np.mean(arr2d, axis=0)\n",
    "median_value = np.median(arr2d)\n",
    "std_deviation = np.std(arr2d)\n",
    "\n",
    "print(\"Mean:\", mean_value)\n",
    "print(\"Median:\", median_value)\n",
    "print(\"Standard Deviation:\", std_deviation)"
   ]
  },
  {
   "cell_type": "code",
   "execution_count": null,
   "id": "b8988979-8b84-416d-9a18-e262ffef5ee7",
   "metadata": {},
   "outputs": [],
   "source": [
    "### Aritmatika\n"
   ]
  },
  {
   "cell_type": "code",
   "execution_count": null,
   "id": "c45ef4dc-06b5-4af0-b0a0-df900c7feadd",
   "metadata": {},
   "outputs": [],
   "source": [
    "arr1 = np.array([[1, 2],\n",
    "                 [3, 4]])\n",
    "arr2 = np.array([[5, 6],\n",
    "                 [7, 8]])\n",
    "\n",
    "\n",
    "# Operasi Transposisi\n",
    "transposed_arr = arr1.T\n",
    "transposed_arr = np.transpose(arr1)\n",
    "print(\"Transposed Array arr1:\\n\", transposed_arr)\n",
    "\n",
    "# Operasi dot product\n",
    "dot_product = np.dot(arr1, arr2)\n",
    "dot_product = arr1.dot(arr2)\n",
    "print(\"Dot Product:\\n\", dot_product)\n",
    "\n",
    "\n",
    "# Operasi penjumlahan\n",
    "# sum_arr = arr1 + arr2\n",
    "sum_arr = np.add(arr1, arr2)\n",
    "print(\"Penjumlahan:\\n\", sum_arr)"
   ]
  },
  {
   "cell_type": "code",
   "execution_count": null,
   "id": "40717c78-36fa-4a7f-8ca0-db7be0112f11",
   "metadata": {},
   "outputs": [],
   "source": [
    "### Reshaping Array"
   ]
  },
  {
   "cell_type": "code",
   "execution_count": null,
   "id": "f4a21af5-179b-4977-98c3-926349467d09",
   "metadata": {},
   "outputs": [],
   "source": [
    "**Reshape** adalah metode dalam NumPy yang digunakan untuk mengubah bentuk (shape/dimensi) dari sebuah array NumPy tanpa mengubah isi datanya."
   ]
  },
  {
   "cell_type": "code",
   "execution_count": 13,
   "id": "f55c43a3-2279-4457-aae5-e2fd76c0b9c4",
   "metadata": {},
   "outputs": [
    {
     "name": "stdout",
     "output_type": "stream",
     "text": [
      "Array 1D:\n",
      "[0 1 2 3 4 5 6 7 8]\n",
      "Matriks 3x3:\n",
      "[[0 1 2]\n",
      " [3 4 5]\n",
      " [6 7 8]]\n",
      "Vektor Baris 1x9:\n",
      "[[0 1 2 3 4 5 6 7 8]]\n",
      "Vektor Kolom 9x1:\n",
      "[[0]\n",
      " [1]\n",
      " [2]\n",
      " [3]\n",
      " [4]\n",
      " [5]\n",
      " [6]\n",
      " [7]\n",
      " [8]]\n"
     ]
    }
   ],
   "source": [
    "# Membuat array 1D dengan 9 elemen menggunakan method arrange\n",
    "# 0, 1, 2, 3, 4, 5, 6, 7, 8\n",
    "\n",
    "arr1d = np.arange(start=0, step=1, stop=9)\n",
    "print(\"Array 1D:\")\n",
    "print(arr1d)\n",
    "\n",
    "# Mengubah array 1D menjadi matriks 3x3\n",
    "arr2d_3x3 = arr1d.reshape(3, 3)\n",
    "print(\"Matriks 3x3:\")\n",
    "print(arr2d_3x3)\n",
    "\n",
    "# Mengubah array 1D menjadi vektor baris 1x9\n",
    "arr2d_row = arr1d.reshape(1, 9)\n",
    "print(\"Vektor Baris 1x9:\")\n",
    "print(arr2d_row)\n",
    "\n",
    "# Mengubah array 1D menjadi vektor kolom 9x1\n",
    "arr2d_col = arr1d.reshape(9, 1)\n",
    "print(\"Vektor Kolom 9x1:\")\n",
    "print(arr2d_col)"
   ]
  }
 ],
 "metadata": {
  "kernelspec": {
   "display_name": "dac",
   "language": "python",
   "name": "dac"
  },
  "language_info": {
   "codemirror_mode": {
    "name": "ipython",
    "version": 3
   },
   "file_extension": ".py",
   "mimetype": "text/x-python",
   "name": "python",
   "nbconvert_exporter": "python",
   "pygments_lexer": "ipython3",
   "version": "3.12.5"
  }
 },
 "nbformat": 4,
 "nbformat_minor": 5
}

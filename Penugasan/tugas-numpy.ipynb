{
 "cells": [
  {
   "cell_type": "markdown",
   "id": "d947b9cf-215c-4b18-a0b8-963556c547c7",
   "metadata": {},
   "source": [
    "# **TUGAS NUMPY**\n",
    "\n",
    "---\n",
    "\n",
    "Nama    : Rhendy Japelhendal Saragih Sumbayak\n",
    "\n",
    "NIM     : 235150407111015"
   ]
  },
  {
   "cell_type": "markdown",
   "id": "392630c3-e396-4dde-8258-cfd1085fd39d",
   "metadata": {},
   "source": [
    "Setelah mengikuti workshop Numpy dan Pandas, tentunya kalian sudah mulai memahami hal-hal apa saja yang akan dilakukan oleh Data Scientist dengan Numpy. Sekarang, saatnya mengukur kemampuan kalian dari apa yang telah kalian dapatkan pada workshop sebelumnya.\n",
    "\n",
    "**Deadline: Jumat, 21 Februari 2025**\n"
   ]
  },
  {
   "cell_type": "markdown",
   "id": "eca339fb-851e-47d9-92a3-8811c04207ed",
   "metadata": {},
   "source": [
    "# **📊 Numpy Exercise 📊**\n",
    "\n",
    "Selamat datang di latihan eksplorasi data menggunakan **Numpy**!  \n",
    "\n",
    "---"
   ]
  },
  {
   "cell_type": "markdown",
   "id": "ee73dcd6-dd10-4c9c-88ca-0eab4af9f337",
   "metadata": {},
   "source": [
    "## **📌 Soal 1: Regresi Linear** 📝\n",
    "\n",
    "Saat offline/online assessment kemarin ada persoalaan **Regresi Linear**, nah coba kamu buat menggunakan python dan numpy termasuk poin-poin berikut: <br>\n",
    "✅ Fungsi regresi mampu menerima array A dan array B dan memprediksi slope dan intercept<br>\n",
    "✅ Fungsi regresi mampu memprediksi nilai baru jika diberikan nilai X <br>"
   ]
  },
  {
   "cell_type": "code",
   "execution_count": 62,
   "id": "cbc3cb08-4559-41f8-ad23-1889bd6b5e7d",
   "metadata": {},
   "outputs": [
    {
     "name": "stdout",
     "output_type": "stream",
     "text": [
      "Slope (m): 0.6\n",
      "Intercept (b): 2.2\n",
      "Prediksi nilai Y untuk X = 6: 5.8\n"
     ]
    }
   ],
   "source": [
    "import numpy as np\n",
    "\n",
    "def linear_regression(X, Y):\n",
    "    # Menghitung jumlah elemen\n",
    "    n = len(X)\n",
    "    \n",
    "    # Menghitung sum dari X, Y, X*Y, dan X^2\n",
    "    sum_x = np.sum(X)\n",
    "    sum_y = np.sum(Y)\n",
    "    sum_xy = np.sum(X * Y)\n",
    "    sum_x_squared = np.sum(X ** 2)\n",
    "    \n",
    "    # Menghitung slope (m)\n",
    "    m = (n * sum_xy - sum_x * sum_y) / (n * sum_x_squared - sum_x ** 2)\n",
    "    \n",
    "    # Menghitung intercept (b)\n",
    "    b = (sum_y - m * sum_x) / n\n",
    "    \n",
    "    return m, b\n",
    "\n",
    "def predict(X, m, b):\n",
    "    # Prediksi nilai Y berdasarkan persamaan regresi linear\n",
    "    return m * X + b\n",
    "\n",
    "# Contoh data X (input) dan Y (output)\n",
    "X = np.array([1, 2, 3, 4, 5])  \n",
    "Y = np.array([2, 4, 5, 4, 5]) \n",
    "\n",
    "# Menghitung slope (m) dan intercept (b)\n",
    "m, b = linear_regression(X, Y)\n",
    "\n",
    "print(f\"Slope (m): {m}\")\n",
    "print(f\"Intercept (b): {b}\")\n",
    "\n",
    "# Prediksi nilai Y untuk X baru\n",
    "new_X = 6\n",
    "predicted_Y = predict(new_X, m, b)\n",
    "print(f\"Prediksi nilai Y untuk X = {new_X}: {predicted_Y}\")"
   ]
  },
  {
   "cell_type": "markdown",
   "id": "a01ab4fc-cd05-4c79-bc0e-35f2412477d2",
   "metadata": {},
   "source": [
    "## **📌 Soal 2: Regresi Polinomial** 📝\n",
    "\n",
    "Saat offline/online assessment kemarin ada persoalan **Regresi Linear**, nah sekarang coba kamu buat **Regresi Polinomial** menggunakan Python dan NumPy, termasuk poin-poin berikut:<br>\n",
    "✅ Fungsi regresi mampu menerima array A dan array B serta menyesuaikan data dengan polinomial derajat tertentu.<br>\n",
    "✅ Fungsi regresi mampu memprediksi nilai baru jika diberikan nilai X.<br>\n",
    "✅ Hasil regresi mencetak koefisien polinomial yang dihasilkan.<br>"
   ]
  },
  {
   "cell_type": "code",
   "execution_count": 63,
   "id": "efaa13de-f42c-43e8-b726-3d4d849807ad",
   "metadata": {},
   "outputs": [
    {
     "name": "stdout",
     "output_type": "stream",
     "text": [
      "Koefisien Polinomial: [ 2.00000000e+00 -4.92671822e-14  7.62390571e-14]\n",
      "Prediksi nilai Y untuk X = [6 7 8]: [ 72.  98. 128.]\n"
     ]
    }
   ],
   "source": [
    "def polynomial_regression(X, Y, degree):\n",
    "    # Menyesuaikan data dengan polinomial derajat tertentu\n",
    "    coefficients = np.polyfit(X, Y, degree)\n",
    "    return coefficients\n",
    "\n",
    "def predict_polynomial(X, coefficients):\n",
    "    # Menggunakan koefisien polinomial untuk memprediksi nilai baru\n",
    "    polynomial = np.poly1d(coefficients)\n",
    "    return polynomial(X)\n",
    "\n",
    "# Contoh data X (input) dan Y (output)\n",
    "X = np.array([1, 2, 3, 4, 5])  # Fitur input\n",
    "Y = np.array([2, 8, 18, 32, 50])  # Target output\n",
    "\n",
    "# Derajat polinomial (misalnya derajat 2 untuk kuadrat)\n",
    "degree = 2\n",
    "\n",
    "# Menghitung koefisien polinomial\n",
    "coefficients = polynomial_regression(X, Y, degree)\n",
    "\n",
    "# Mencetak koefisien polinomial yang dihasilkan\n",
    "print(f\"Koefisien Polinomial: {coefficients}\")\n",
    "\n",
    "# Prediksi nilai Y untuk X baru\n",
    "new_X = np.array([6, 7, 8])  # Nilai X baru untuk prediksi\n",
    "predicted_Y = predict_polynomial(new_X, coefficients)\n",
    "\n",
    "print(f\"Prediksi nilai Y untuk X = {new_X}: {predicted_Y}\")\n"
   ]
  },
  {
   "cell_type": "markdown",
   "id": "e187c964-3ab2-4ae3-a52c-4e6052c30911",
   "metadata": {},
   "source": [
    "## **📌 Soal 3: Random Values Array** 📝\n",
    "\n",
    "Pertama-tama, buatlah **Array Integer 10x10x10** dengan elemen **random** dan carikan:<br>\n",
    "1️⃣ Cari elemen minimum dan maksimum dalam array tersebut?<br>\n",
    "2️⃣ Carilah rata-rata dan median seluruh elemen dalam array tersebut?<br>"
   ]
  },
  {
   "cell_type": "code",
   "execution_count": 64,
   "id": "ba1aa95d-56ce-4834-8d73-7e27e4cc1901",
   "metadata": {},
   "outputs": [
    {
     "name": "stdout",
     "output_type": "stream",
     "text": [
      "Array 10x10x10:\n",
      "[[[69 87 99  4 90 89 45 97 56 73]\n",
      "  [78 18 89 98 41 62  5 83 44 92]\n",
      "  [63 99 20 77 25  2 74 12 99 41]\n",
      "  [28 38 71 53 56 17 31 45 93 91]\n",
      "  [90 63 17 89 53 57 92 76 26 64]\n",
      "  [68 66 86 70 37 45 66 24  9 38]\n",
      "  [22 79 41  5 56 19 16 63 10 44]\n",
      "  [ 3 93 38 68 62 11 11 51 28 13]\n",
      "  [ 1 41 83 51 34 29 41 84 43 25]\n",
      "  [99 25 20 23 44 18 86  6 71 57]]\n",
      "\n",
      " [[79 59  5 62 78 82 54  4 43 66]\n",
      "  [96 86 55 81 27 91 87 86 26 19]\n",
      "  [54  8 14 94 46 95 61 30 64 92]\n",
      "  [49 86  6 51 89 89  2  7 66 84]\n",
      "  [82 80 30 89 37 99 75 61 75 22]\n",
      "  [14 77 11 31 43  2 76 80 46 59]\n",
      "  [20 43 57 19 36 83 26 90 91  1]\n",
      "  [71 74 81 50 32 33 24 99 24 21]\n",
      "  [46 53 68 57  7 24 31 49 12 91]\n",
      "  [12 42 46 87 91  0 67 93 25 14]]\n",
      "\n",
      " [[22 23 64  8  2 94 59 87  3 63]\n",
      "  [92 37 34 12 68 52 81 57 86 26]\n",
      "  [88 35 59 76 34 63 36 24 50 37]\n",
      "  [49  0 40 91  9 98 55 13 51 90]\n",
      "  [65 79 63 78 78 86  1 83  0  5]\n",
      "  [ 0 95 51 94 74 62 22 84 66 20]\n",
      "  [97  7 45  8 69 61 48 42 39 49]\n",
      "  [16 63 53 81 51 10 61 95 21 94]\n",
      "  [88 79 44 85 46 79 21 55 40 13]\n",
      "  [61 40 79 97 92 52 16 48 17 19]]\n",
      "\n",
      " [[30 64  0 12 55  9 42  6 55 30]\n",
      "  [43 67 18 15 63 43 36 19 37 93]\n",
      "  [86 55 54 73 99 32 98 79 58 76]\n",
      "  [75 15 23 21 31 80 59 77 59 43]\n",
      "  [85 19 76 47  6  1 14 64 41 56]\n",
      "  [68  0 11 28 21 97 74 51 10 97]\n",
      "  [28  4 53 81 83 69 24 49 76 73]\n",
      "  [79  4 45 76 17 79 95 47 28 30]\n",
      "  [43 70 28 98 97 58 23  0 20 62]\n",
      "  [26  5 78 55 99 42 72 91 69 57]]\n",
      "\n",
      " [[ 3 62 84 20 98 75 15 92 63 46]\n",
      "  [37  4  3 32 24 92 63 72  8 22]\n",
      "  [25 67 33 99 87 34 31 65 52 98]\n",
      "  [78 65  1 52 27 31 88  6 74 38]\n",
      "  [ 6 40  1 69 55 99 54  7 66 56]\n",
      "  [18 29 71 96 99  4 93 14 16 85]\n",
      "  [25 17 74 31 54 14 42 84 30 83]\n",
      "  [ 1  9  1 27 17 90 64 71 35 90]\n",
      "  [73 97 48 58 28 22 93 65 95 92]\n",
      "  [47 89 43 69 62 92 90 86 13 32]]\n",
      "\n",
      " [[57 29 54 23 31 28 18  2 67 58]\n",
      "  [64 74 53 69 39 63 59 97 44 82]\n",
      "  [88  3 15 66  0 58 64 98 25 81]\n",
      "  [10 13 51 65 92 70 84 94 26 68]\n",
      "  [64  5 49 42 55 15 84 55 25 43]\n",
      "  [ 1 68 22 26 42 18 45 90 47 23]\n",
      "  [93 20  0 29 62  5 81 30 10 47]\n",
      "  [17 72 98 48 30 43 74 97 93 87]\n",
      "  [77 76 76 73  2 11 49 65 72 82]\n",
      "  [31 24 97  6 42 86 16 73 90 64]]\n",
      "\n",
      " [[10 83 92 42 49 80 48 88 64 51]\n",
      "  [34 40 27 54 46  1  1 63 82 89]\n",
      "  [15 11 79 58 44 72  9 25 62 38]\n",
      "  [26 59  0 47 48 94 71 39 61 83]\n",
      "  [57 26 35 65 33 22 70  2 87 92]\n",
      "  [ 5 92 14 25 38 54 23 65 24 32]\n",
      "  [ 6 37 56 91 89  9 36 47  2 47]\n",
      "  [98 40 49 63 76 21 70 96 39 13]\n",
      "  [13 96 64 13 63  5 62 17 98 89]\n",
      "  [50 31 63 68 87  0 65 80 87 97]]\n",
      "\n",
      " [[83 59 34  1 99 60 29 22 98 91]\n",
      "  [42 70 86 65 64 40 31 16 59 59]\n",
      "  [12 93  8 22 96 62 97 59 46 65]\n",
      "  [11 46 72  6 97 74 27 23 54 12]\n",
      "  [21 56 25 31 41 68 66 57 76 75]\n",
      "  [63 83 18  6 69 85 90 13 83  7]\n",
      "  [24 56 17 94 44 46 12 83 61 28]\n",
      "  [10 61 22 22 57 23  5 32 19 95]\n",
      "  [12 52 10 89 25  6 53 74 98 27]\n",
      "  [45 53 44 68 95 81  4 56 88 64]]\n",
      "\n",
      " [[71 70 83 31 89 55 44 28  6 95]\n",
      "  [70 87 58 50 70 50 99  5 37 99]\n",
      "  [11 92 49 77  4 69  3 16 82  1]\n",
      "  [ 7 47 79 45 97 98 81 36 59 43]\n",
      "  [97 25  9  1 31 15 37 92 45 79]\n",
      "  [52 83 69 98 62 19 44 23 45 16]\n",
      "  [29 92 85  6 87 79  5 26 89 50]\n",
      "  [33 15 13 33 46 64 97 21  4 78]\n",
      "  [14 13 35 67 34  9 24 54 44 19]\n",
      "  [10 77 33 72  5 51 89 75  7 40]]\n",
      "\n",
      " [[29 88 38 94 61 69  7 20 52 72]\n",
      "  [20  0 51 70 35 54 26 97 88 77]\n",
      "  [28 49 51 51 88 90 21 94 92 35]\n",
      "  [81 38 59  1 15 35 40 68 36 77]\n",
      "  [72 15 34 79 37 40 46 65 75 42]\n",
      "  [20 77 14  6 60 57  8 97 87 15]\n",
      "  [34 85 25 92 47 94 69 24 43 16]\n",
      "  [67 13 32 13 52 27 50 40 60 79]\n",
      "  [62 36 31 31 12 83  1  5 84 64]\n",
      "  [40 49 99 71 79  4 38 25 83 50]]]\n",
      "Elemen minimum dalam array: 0\n",
      "Elemen maksimum dalam array: 99\n"
     ]
    }
   ],
   "source": [
    "# Membuat array 10x10x10 dengan elemen random integer antara 0 dan 100\n",
    "array = np.random.randint(0, 100, size=(10, 10, 10))\n",
    "\n",
    "# Menampilkan array untuk referensi\n",
    "print(\"Array 10x10x10:\")\n",
    "print(array)\n",
    "\n",
    "# Mencari elemen minimum dan maksimum\n",
    "min_value = np.min(array)\n",
    "max_value = np.max(array)\n",
    "\n",
    "print(f\"Elemen minimum dalam array: {min_value}\")\n",
    "print(f\"Elemen maksimum dalam array: {max_value}\")"
   ]
  },
  {
   "cell_type": "code",
   "execution_count": 65,
   "id": "c7cd0420-9393-449a-bcec-e5947b24b327",
   "metadata": {},
   "outputs": [
    {
     "name": "stdout",
     "output_type": "stream",
     "text": [
      "Rata-rata seluruh elemen dalam array: 50.354\n",
      "Median seluruh elemen dalam array: 51.0\n"
     ]
    }
   ],
   "source": [
    "# Mencari rata-rata seluruh elemen dalam array\n",
    "mean_value = np.mean(array)\n",
    "\n",
    "# Mencari median seluruh elemen dalam array\n",
    "median_value = np.median(array)\n",
    "\n",
    "# Menampilkan hasil\n",
    "print(f\"Rata-rata seluruh elemen dalam array: {mean_value}\")\n",
    "print(f\"Median seluruh elemen dalam array: {median_value}\")"
   ]
  },
  {
   "cell_type": "markdown",
   "id": "1f248c96-688d-462a-b41e-5a2275be5fde",
   "metadata": {},
   "source": [
    "## **📌 Soal 4: 2D Array Shenanigans** 📝\n",
    "\n",
    "Tugas kamu disini adalah membuat **Array 2D** sesuai ketentuan masing-masing soal: <br>\n",
    "1️⃣ Buatlah **array 10x10** yang memiliki angka \"5\" sebagai bingkai di seluruh tepi luar dan bagian dalam (selain array) berisi \"8\"? <br>\n",
    "2️⃣ Buatlah **array 2d 8x8** dengan pola seperti **checkboard/catur** (1 untuk kotak hitam, 0 untuk kotak putih)?<br>\n",
    "3️⃣ Buatlah **array 2d 15x15** dengan aturan sebagai berikut:\n",
    "- Jika suatu angka dapat dibagi 2, isi dengan 2.\n",
    "- Jika suatu angka dapat dibagi 3, isi dengan 3.\n",
    "- Jika suatu angka dapat dibagi 5, isi dengan 5.\n",
    "- Jika suatu angka dapat dibagi oleh lebih dari satu kondisi (misal, 6 bisa dibagi 2 & 3), maka simpan gabungan angka tersebut (misal, 6 → \"23\", 15 → \"35\").\n",
    "- Jika tidak memenuhi kondisi apa pun, isi dengan 0."
   ]
  },
  {
   "cell_type": "code",
   "execution_count": 66,
   "id": "e4974640-df15-43f7-9ae5-fdc8ff8f47dd",
   "metadata": {},
   "outputs": [
    {
     "name": "stdout",
     "output_type": "stream",
     "text": [
      "Array 10x10 dengan bingkai 5 dan bagian dalam 8:\n",
      "[[5 5 5 5 5 5 5 5 5 5]\n",
      " [5 8 8 8 8 8 8 8 8 5]\n",
      " [5 8 8 8 8 8 8 8 8 5]\n",
      " [5 8 8 8 8 8 8 8 8 5]\n",
      " [5 8 8 8 8 8 8 8 8 5]\n",
      " [5 8 8 8 8 8 8 8 8 5]\n",
      " [5 8 8 8 8 8 8 8 8 5]\n",
      " [5 8 8 8 8 8 8 8 8 5]\n",
      " [5 8 8 8 8 8 8 8 8 5]\n",
      " [5 5 5 5 5 5 5 5 5 5]]\n"
     ]
    }
   ],
   "source": [
    "# Membuat array 10x10 yang berisi angka 8\n",
    "array_10x10 = np.full((10, 10), 8)\n",
    "\n",
    "# Menambahkan bingkai angka 5 di tepi luar\n",
    "array_10x10[0, :] = 5  # Baris pertama\n",
    "array_10x10[-1, :] = 5  # Baris terakhir\n",
    "array_10x10[:, 0] = 5   # Kolom pertama\n",
    "array_10x10[:, -1] = 5  # Kolom terakhir\n",
    "\n",
    "print(\"Array 10x10 dengan bingkai 5 dan bagian dalam 8:\")\n",
    "print(array_10x10)"
   ]
  },
  {
   "cell_type": "code",
   "execution_count": 67,
   "id": "0af5bcce-4fe7-489e-a23e-24e7ca11108f",
   "metadata": {},
   "outputs": [
    {
     "name": "stdout",
     "output_type": "stream",
     "text": [
      "\n",
      "Array 8x8 dengan pola catur:\n",
      "[[0 1 0 1 0 1 0 1]\n",
      " [1 0 1 0 1 0 1 0]\n",
      " [0 1 0 1 0 1 0 1]\n",
      " [1 0 1 0 1 0 1 0]\n",
      " [0 1 0 1 0 1 0 1]\n",
      " [1 0 1 0 1 0 1 0]\n",
      " [0 1 0 1 0 1 0 1]\n",
      " [1 0 1 0 1 0 1 0]]\n"
     ]
    }
   ],
   "source": [
    "# Membuat array 8x8 untuk pola catur\n",
    "array_8x8 = np.zeros((8, 8), dtype=int)\n",
    "\n",
    "# Mengisi pola catur\n",
    "array_8x8[1::2, ::2] = 1  # Kotak hitam pada baris ganjil dan kolom genap\n",
    "array_8x8[::2, 1::2] = 1  # Kotak hitam pada baris genap dan kolom ganjil\n",
    "\n",
    "print(\"\\nArray 8x8 dengan pola catur:\")\n",
    "print(array_8x8)"
   ]
  },
  {
   "cell_type": "code",
   "execution_count": 68,
   "id": "5e591f0a-78d8-47e4-97d5-d56bff180984",
   "metadata": {},
   "outputs": [
    {
     "name": "stdout",
     "output_type": "stream",
     "text": [
      "\n",
      "Array 15x15 dengan aturan pembagian 2, 3, 5:\n",
      "[[0 '2' '3' '2' '5' '23' 0 '2' '3' '25' 0 '23' 0 '2' '35']\n",
      " ['2' 0 '23' 0 '25' '3' '2' 0 '23' '5' '2' '3' '2' 0 '235']\n",
      " [0 '2' '3' '2' '5' '23' 0 '2' '3' '25' 0 '23' 0 '2' '35']\n",
      " ['2' 0 '23' 0 '25' '3' '2' 0 '23' '5' '2' '3' '2' 0 '235']\n",
      " [0 '2' '3' '2' '5' '23' 0 '2' '3' '25' 0 '23' 0 '2' '35']\n",
      " ['2' 0 '23' 0 '25' '3' '2' 0 '23' '5' '2' '3' '2' 0 '235']\n",
      " [0 '2' '3' '2' '5' '23' 0 '2' '3' '25' 0 '23' 0 '2' '35']\n",
      " ['2' 0 '23' 0 '25' '3' '2' 0 '23' '5' '2' '3' '2' 0 '235']\n",
      " [0 '2' '3' '2' '5' '23' 0 '2' '3' '25' 0 '23' 0 '2' '35']\n",
      " ['2' 0 '23' 0 '25' '3' '2' 0 '23' '5' '2' '3' '2' 0 '235']\n",
      " [0 '2' '3' '2' '5' '23' 0 '2' '3' '25' 0 '23' 0 '2' '35']\n",
      " ['2' 0 '23' 0 '25' '3' '2' 0 '23' '5' '2' '3' '2' 0 '235']\n",
      " [0 '2' '3' '2' '5' '23' 0 '2' '3' '25' 0 '23' 0 '2' '35']\n",
      " ['2' 0 '23' 0 '25' '3' '2' 0 '23' '5' '2' '3' '2' 0 '235']\n",
      " [0 '2' '3' '2' '5' '23' 0 '2' '3' '25' 0 '23' 0 '2' '35']]\n"
     ]
    }
   ],
   "source": [
    "# Membuat array 15x15 dengan aturan pembagian\n",
    "array_15x15 = np.zeros((15, 15), dtype=object)\n",
    "\n",
    "# Mengisi array berdasarkan aturan\n",
    "for i in range(15):\n",
    "    for j in range(15):\n",
    "        num = i * 15 + j + 1  # Menghitung angka sesuai posisi dalam array\n",
    "        result = ''\n",
    "        \n",
    "        if num % 2 == 0:\n",
    "            result += '2'\n",
    "        if num % 3 == 0:\n",
    "            result += '3'\n",
    "        if num % 5 == 0:\n",
    "            result += '5'\n",
    "        \n",
    "        # Jika tidak ada pembagian yang memenuhi, tetap 0\n",
    "        array_15x15[i, j] = result if result else 0\n",
    "\n",
    "print(\"\\nArray 15x15 dengan aturan pembagian 2, 3, 5:\")\n",
    "print(array_15x15)"
   ]
  },
  {
   "cell_type": "markdown",
   "id": "4b963ba6-4272-4773-ab58-33ade2e536bd",
   "metadata": {},
   "source": [
    "## **📌 Soal 5: Time & Date** 📝\n",
    "\n",
    "Kamu disini diminta untuk memanfaatkan fitur numpy untuk tanggal: <br>\n",
    "1️⃣ Bagaimana dengan numpy, kamu bisa mendapatkan tanggal hari ini, kemarin dan esok hari?<br>\n",
    "2️⃣ Tampilkan hari yang ada di bulan Mei tahun 2020?<br>"
   ]
  },
  {
   "cell_type": "code",
   "execution_count": 69,
   "id": "ac7ccf05-97da-484f-96c9-fc578e62bbbe",
   "metadata": {},
   "outputs": [
    {
     "name": "stdout",
     "output_type": "stream",
     "text": [
      "Tanggal hari ini: 2025-02-21\n",
      "Tanggal kemarin: 2025-02-20\n",
      "Tanggal esok hari: 2025-02-22\n"
     ]
    }
   ],
   "source": [
    "# Mendapatkan tanggal hari ini\n",
    "today = np.datetime64('today', 'D')\n",
    "\n",
    "# Mendapatkan tanggal kemarin (1 hari sebelum hari ini)\n",
    "yesterday = today - np.timedelta64(1, 'D')\n",
    "\n",
    "# Mendapatkan tanggal esok hari (1 hari setelah hari ini)\n",
    "tomorrow = today + np.timedelta64(1, 'D')\n",
    "\n",
    "print(f\"Tanggal hari ini: {today}\")\n",
    "print(f\"Tanggal kemarin: {yesterday}\")\n",
    "print(f\"Tanggal esok hari: {tomorrow}\")"
   ]
  },
  {
   "cell_type": "code",
   "execution_count": 70,
   "id": "88e6133e",
   "metadata": {},
   "outputs": [
    {
     "name": "stdout",
     "output_type": "stream",
     "text": [
      "Tanggal 2020-05-01 adalah hari Friday\n",
      "Tanggal 2020-05-02 adalah hari Saturday\n",
      "Tanggal 2020-05-03 adalah hari Sunday\n",
      "Tanggal 2020-05-04 adalah hari Monday\n",
      "Tanggal 2020-05-05 adalah hari Tuesday\n",
      "Tanggal 2020-05-06 adalah hari Wednesday\n",
      "Tanggal 2020-05-07 adalah hari Thursday\n",
      "Tanggal 2020-05-08 adalah hari Friday\n",
      "Tanggal 2020-05-09 adalah hari Saturday\n",
      "Tanggal 2020-05-10 adalah hari Sunday\n",
      "Tanggal 2020-05-11 adalah hari Monday\n",
      "Tanggal 2020-05-12 adalah hari Tuesday\n",
      "Tanggal 2020-05-13 adalah hari Wednesday\n",
      "Tanggal 2020-05-14 adalah hari Thursday\n",
      "Tanggal 2020-05-15 adalah hari Friday\n",
      "Tanggal 2020-05-16 adalah hari Saturday\n",
      "Tanggal 2020-05-17 adalah hari Sunday\n",
      "Tanggal 2020-05-18 adalah hari Monday\n",
      "Tanggal 2020-05-19 adalah hari Tuesday\n",
      "Tanggal 2020-05-20 adalah hari Wednesday\n",
      "Tanggal 2020-05-21 adalah hari Thursday\n",
      "Tanggal 2020-05-22 adalah hari Friday\n",
      "Tanggal 2020-05-23 adalah hari Saturday\n",
      "Tanggal 2020-05-24 adalah hari Sunday\n",
      "Tanggal 2020-05-25 adalah hari Monday\n",
      "Tanggal 2020-05-26 adalah hari Tuesday\n",
      "Tanggal 2020-05-27 adalah hari Wednesday\n",
      "Tanggal 2020-05-28 adalah hari Thursday\n",
      "Tanggal 2020-05-29 adalah hari Friday\n",
      "Tanggal 2020-05-30 adalah hari Saturday\n",
      "Tanggal 2020-05-31 adalah hari Sunday\n"
     ]
    }
   ],
   "source": [
    "# Rentang tanggal dari 1 Mei 2020 hingga 31 Mei 2020\n",
    "may_dates = np.arange('2020-05-01', '2020-06-01', dtype='datetime64[D]')\n",
    "\n",
    "# Menampilkan hari dari setiap tanggal\n",
    "for date in may_dates:\n",
    "    print(f\"Tanggal {date} adalah hari {date.astype('datetime64[D]').item().strftime('%A')}\")"
   ]
  },
  {
   "cell_type": "markdown",
   "id": "63d149d6-61a5-481c-bc7c-9e1e8b389c28",
   "metadata": {},
   "source": []
  },
  {
   "cell_type": "markdown",
   "id": "eccc9d2f-8a7a-424c-ab89-ad5e52ca20a4",
   "metadata": {},
   "source": [
    "## **📌 Soal 6: Slicing** 📝\n",
    "\n",
    "Jika diketahui array `A`, maka buatlah program untuk mendapatkan elemen dibawah ini:\n",
    "```python\n",
    "A = np.array([\n",
    "    [10, 20, 30, 40, 50, 60],\n",
    "    [70, 80, 90, 100, 110, 120],\n",
    "    [130, 140, 150, 160, 170, 180],\n",
    "    [190, 200, 210, 220, 230, 240],\n",
    "    [250, 260, 270, 280, 290, 300]\n",
    "])\n",
    "```\n",
    "\n",
    "1️⃣ Ambil elemen yang berada pada baris `ke-4` dan kolom `ke-2` dari array `A` <br>\n",
    "2️⃣ Buat `array 2D` yang hanya berisi bilangan prima dari `A` <br>\n",
    "3️⃣ Ambil elemen-elemen yang berada di tepi luar dari array `A` dan gabungkan menjadi `Satu array 1D`. <br>\n",
    "4️⃣ Dapatkan subbarray berikut:\n",
    "```python\n",
    "[[20, 40, 60],\n",
    " [80, 100, 120],\n",
    " [140, 160, 180],\n",
    " [200, 220, 240],\n",
    " [260, 280, 300]]\n",
    "```\n",
    "5️⃣ Dapatkan subbarray berikut:\n",
    "```python\n",
    " [[30, 40],\n",
    " [90, 100],\n",
    " [150, 160],\n",
    " [210, 220]]\n",
    "```"
   ]
  },
  {
   "cell_type": "code",
   "execution_count": 71,
   "id": "4ef1d236-2f82-45f5-a50a-bd202aef8084",
   "metadata": {},
   "outputs": [
    {
     "name": "stdout",
     "output_type": "stream",
     "text": [
      "Elemen pada baris ke-4 dan kolom ke-2: 200\n"
     ]
    }
   ],
   "source": [
    "A = np.array([\n",
    "    [10, 20, 30, 40, 50, 60],\n",
    "    [70, 80, 90, 100, 110, 120],\n",
    "    [130, 140, 150, 160, 170, 180],\n",
    "    [190, 200, 210, 220, 230, 240],\n",
    "    [250, 260, 270, 280, 290, 300]\n",
    "])\n",
    "\n",
    "# Ambil elemen baris ke-4 dan kolom ke-2\n",
    "element = A[3, 1]  # Baris ke-4 adalah indeks 3, kolom ke-2 adalah indeks 1\n",
    "print(f\"Elemen pada baris ke-4 dan kolom ke-2: {element}\")"
   ]
  },
  {
   "cell_type": "code",
   "execution_count": 72,
   "id": "e719e525-cf78-484e-9c40-a708a58b387e",
   "metadata": {},
   "outputs": [
    {
     "name": "stdout",
     "output_type": "stream",
     "text": [
      "Array 2D yang hanya berisi bilangan prima: \n",
      "[]\n"
     ]
    }
   ],
   "source": [
    "# Fungsi untuk memeriksa apakah sebuah angka adalah bilangan prima\n",
    "def is_prime(n):\n",
    "    if n <= 1:\n",
    "        return False\n",
    "    for i in range(2, int(n**0.5) + 1):\n",
    "        if n % i == 0:\n",
    "            return False\n",
    "    return True\n",
    "\n",
    "# Menyaring bilangan prima dari array A\n",
    "prime_elements = A[np.vectorize(is_prime)(A)]\n",
    "prime_elements_2d = prime_elements[prime_elements > 0].reshape(-1, 1)  # Membuat array 2D\n",
    "print(f\"Array 2D yang hanya berisi bilangan prima: \\n{prime_elements_2d}\")"
   ]
  },
  {
   "cell_type": "code",
   "execution_count": 73,
   "id": "f9b0d1e6-c30b-4828-8ad3-0a71367905ba",
   "metadata": {},
   "outputs": [
    {
     "name": "stdout",
     "output_type": "stream",
     "text": [
      "Elemen tepi luar digabungkan menjadi array 1D: \n",
      "[ 10  20  30  40  50  60 250 260 270 280 290 300  70 130 190 120 180 240]\n"
     ]
    }
   ],
   "source": [
    "# Mengambil elemen tepi luar dari array A\n",
    "top = A[0, :]\n",
    "bottom = A[-1, :]\n",
    "left = A[:, 0]\n",
    "right = A[:, -1]\n",
    "\n",
    "# Menggabungkan elemen-elemen tepi luar menjadi satu array 1D\n",
    "edge_elements = np.concatenate((top, bottom, left[1:-1], right[1:-1]))  # Menyingkirkan duplikasi sudut\n",
    "print(f\"Elemen tepi luar digabungkan menjadi array 1D: \\n{edge_elements}\")"
   ]
  },
  {
   "cell_type": "code",
   "execution_count": 74,
   "id": "cc637fd0-78d7-45f8-b4e8-dbde6c3e6dfc",
   "metadata": {},
   "outputs": [
    {
     "name": "stdout",
     "output_type": "stream",
     "text": [
      "Subarray yang diambil: \n",
      "[[ 20  40  60]\n",
      " [ 80 100 120]\n",
      " [140 160 180]\n",
      " [200 220 240]\n",
      " [260 280 300]]\n"
     ]
    }
   ],
   "source": [
    "# Mengambil subarray sesuai permintaan\n",
    "subarray1 = A[:, [1, 3, 5]]\n",
    "print(f\"Subarray yang diambil: \\n{subarray1}\")"
   ]
  },
  {
   "cell_type": "code",
   "execution_count": 75,
   "id": "f52e24b4-98f6-41fe-9aab-8d9d243c16e1",
   "metadata": {},
   "outputs": [
    {
     "name": "stdout",
     "output_type": "stream",
     "text": [
      "Subarray yang diambil: \n",
      "[[ 30  40]\n",
      " [ 90 100]\n",
      " [150 160]\n",
      " [210 220]\n",
      " [270 280]]\n"
     ]
    }
   ],
   "source": [
    "# Mengambil subarray sesuai permintaan\n",
    "subarray2 = A[:, [2, 3]]\n",
    "print(f\"Subarray yang diambil: \\n{subarray2}\")"
   ]
  },
  {
   "cell_type": "markdown",
   "id": "c69b198a-5558-4ca3-8dea-c5a8d1ca81e9",
   "metadata": {},
   "source": [
    "## **📌 Soal 7: Ekspansi Array** 📝\n",
    "\n",
    "Jika kamu memiliki array ***Z = [1,2,3,4,5,6,7,8,9,10,11,12,13,14]***, buatlah kode untuk membuat array R berupa: <br>\n",
    "***R = [[1,2,3,4], [2,3,4,5], [3,4,5,6], ..., [11,12,13,14]]***?"
   ]
  },
  {
   "cell_type": "code",
   "execution_count": 76,
   "id": "6f77ba10-4474-44cd-aa7c-5a6c3940e22a",
   "metadata": {},
   "outputs": [
    {
     "name": "stdout",
     "output_type": "stream",
     "text": [
      "Array R:\n",
      "[[ 1  2  3  4]\n",
      " [ 2  3  4  5]\n",
      " [ 3  4  5  6]\n",
      " [ 4  5  6  7]\n",
      " [ 5  6  7  8]\n",
      " [ 6  7  8  9]\n",
      " [ 7  8  9 10]\n",
      " [ 8  9 10 11]\n",
      " [ 9 10 11 12]\n",
      " [10 11 12 13]\n",
      " [11 12 13 14]]\n"
     ]
    }
   ],
   "source": [
    "# Array Z yang diberikan\n",
    "Z = np.array([1, 2, 3, 4, 5, 6, 7, 8, 9, 10, 11, 12, 13, 14])\n",
    "\n",
    "# Membuat array R dengan slicing, dengan setiap subarray terdiri dari 4 elemen berturut-turut\n",
    "R = np.array([Z[i:i+4] for i in range(len(Z)-3)])\n",
    "\n",
    "print(\"Array R:\")\n",
    "print(R)"
   ]
  }
 ],
 "metadata": {
  "kernelspec": {
   "display_name": "base",
   "language": "python",
   "name": "python3"
  },
  "language_info": {
   "codemirror_mode": {
    "name": "ipython",
    "version": 3
   },
   "file_extension": ".py",
   "mimetype": "text/x-python",
   "name": "python",
   "nbconvert_exporter": "python",
   "pygments_lexer": "ipython3",
   "version": "3.12.7"
  }
 },
 "nbformat": 4,
 "nbformat_minor": 5
}

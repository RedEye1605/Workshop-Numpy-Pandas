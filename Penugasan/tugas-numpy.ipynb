{
 "cells": [
  {
   "cell_type": "markdown",
   "id": "d947b9cf-215c-4b18-a0b8-963556c547c7",
   "metadata": {},
   "source": [
    "# **TUGAS NUMPY**\n",
    "\n",
    "---\n",
    "\n",
    "Nama    : Rhendy Japelhendal Saragih Sumbayak\n",
    "\n",
    "NIM     : 235150407111015"
   ]
  },
  {
   "cell_type": "markdown",
   "id": "392630c3-e396-4dde-8258-cfd1085fd39d",
   "metadata": {},
   "source": [
    "Setelah mengikuti workshop Numpy dan Pandas, tentunya kalian sudah mulai memahami hal-hal apa saja yang akan dilakukan oleh Data Scientist dengan Numpy. Sekarang, saatnya mengukur kemampuan kalian dari apa yang telah kalian dapatkan pada workshop sebelumnya.\n",
    "\n",
    "**Deadline: Jumat, 21 Februari 2025**\n"
   ]
  },
  {
   "cell_type": "markdown",
   "id": "eca339fb-851e-47d9-92a3-8811c04207ed",
   "metadata": {},
   "source": [
    "# **📊 Numpy Exercise 📊**\n",
    "\n",
    "Selamat datang di latihan eksplorasi data menggunakan **Numpy**!  \n",
    "\n",
    "---"
   ]
  },
  {
   "cell_type": "markdown",
   "id": "ee73dcd6-dd10-4c9c-88ca-0eab4af9f337",
   "metadata": {},
   "source": [
    "## **📌 Soal 1: Regresi Linear** 📝\n",
    "\n",
    "Saat offline/online assessment kemarin ada persoalaan **Regresi Linear**, nah coba kamu buat menggunakan python dan numpy termasuk poin-poin berikut: <br>\n",
    "✅ Fungsi regresi mampu menerima array A dan array B dan memprediksi slope dan intercept<br>\n",
    "✅ Fungsi regresi mampu memprediksi nilai baru jika diberikan nilai X <br>"
   ]
  },
  {
   "cell_type": "code",
   "execution_count": 77,
   "id": "cbc3cb08-4559-41f8-ad23-1889bd6b5e7d",
   "metadata": {},
   "outputs": [
    {
     "name": "stdout",
     "output_type": "stream",
     "text": [
      "Slope (m): 0.6\n",
      "Intercept (b): 2.2\n",
      "Prediksi nilai Y untuk X = 6: 5.8\n"
     ]
    }
   ],
   "source": [
    "import numpy as np\n",
    "\n",
    "def linear_regression(X, Y):\n",
    "    # Menghitung jumlah elemen\n",
    "    n = len(X)\n",
    "    \n",
    "    # Menghitung sum dari X, Y, X*Y, dan X^2\n",
    "    sum_x = np.sum(X)\n",
    "    sum_y = np.sum(Y)\n",
    "    sum_xy = np.sum(X * Y)\n",
    "    sum_x_squared = np.sum(X ** 2)\n",
    "    \n",
    "    # Menghitung slope (m)\n",
    "    m = (n * sum_xy - sum_x * sum_y) / (n * sum_x_squared - sum_x ** 2)\n",
    "    \n",
    "    # Menghitung intercept (b)\n",
    "    b = (sum_y - m * sum_x) / n\n",
    "    \n",
    "    return m, b\n",
    "\n",
    "def predict(X, m, b):\n",
    "    # Prediksi nilai Y berdasarkan persamaan regresi linear\n",
    "    return m * X + b\n",
    "\n",
    "# Contoh data X (input) dan Y (output)\n",
    "X = np.array([1, 2, 3, 4, 5])  \n",
    "Y = np.array([2, 4, 5, 4, 5]) \n",
    "\n",
    "# Menghitung slope (m) dan intercept (b)\n",
    "m, b = linear_regression(X, Y)\n",
    "\n",
    "print(f\"Slope (m): {m}\")\n",
    "print(f\"Intercept (b): {b}\")\n",
    "\n",
    "# Prediksi nilai Y untuk X baru\n",
    "new_X = 6\n",
    "predicted_Y = predict(new_X, m, b)\n",
    "print(f\"Prediksi nilai Y untuk X = {new_X}: {predicted_Y}\")"
   ]
  },
  {
   "cell_type": "markdown",
   "id": "a01ab4fc-cd05-4c79-bc0e-35f2412477d2",
   "metadata": {},
   "source": [
    "## **📌 Soal 2: Regresi Polinomial** 📝\n",
    "\n",
    "Saat offline/online assessment kemarin ada persoalan **Regresi Linear**, nah sekarang coba kamu buat **Regresi Polinomial** menggunakan Python dan NumPy, termasuk poin-poin berikut:<br>\n",
    "✅ Fungsi regresi mampu menerima array A dan array B serta menyesuaikan data dengan polinomial derajat tertentu.<br>\n",
    "✅ Fungsi regresi mampu memprediksi nilai baru jika diberikan nilai X.<br>\n",
    "✅ Hasil regresi mencetak koefisien polinomial yang dihasilkan.<br>"
   ]
  },
  {
   "cell_type": "code",
   "execution_count": 78,
   "id": "efaa13de-f42c-43e8-b726-3d4d849807ad",
   "metadata": {},
   "outputs": [
    {
     "name": "stdout",
     "output_type": "stream",
     "text": [
      "Koefisien Polinomial: [ 2.00000000e+00 -4.92671822e-14  7.62390571e-14]\n",
      "Prediksi nilai Y untuk X = [6 7 8]: [ 72.  98. 128.]\n"
     ]
    }
   ],
   "source": [
    "def polynomial_regression(X, Y, degree):\n",
    "    # Menyesuaikan data dengan polinomial derajat tertentu\n",
    "    coefficients = np.polyfit(X, Y, degree)\n",
    "    return coefficients\n",
    "\n",
    "def predict_polynomial(X, coefficients):\n",
    "    # Menggunakan koefisien polinomial untuk memprediksi nilai baru\n",
    "    polynomial = np.poly1d(coefficients)\n",
    "    return polynomial(X)\n",
    "\n",
    "# Contoh data X (input) dan Y (output)\n",
    "X = np.array([1, 2, 3, 4, 5])  # Fitur input\n",
    "Y = np.array([2, 8, 18, 32, 50])  # Target output\n",
    "\n",
    "# Derajat polinomial (misalnya derajat 2 untuk kuadrat)\n",
    "degree = 2\n",
    "\n",
    "# Menghitung koefisien polinomial\n",
    "coefficients = polynomial_regression(X, Y, degree)\n",
    "\n",
    "# Mencetak koefisien polinomial yang dihasilkan\n",
    "print(f\"Koefisien Polinomial: {coefficients}\")\n",
    "\n",
    "# Prediksi nilai Y untuk X baru\n",
    "new_X = np.array([6, 7, 8])  # Nilai X baru untuk prediksi\n",
    "predicted_Y = predict_polynomial(new_X, coefficients)\n",
    "\n",
    "print(f\"Prediksi nilai Y untuk X = {new_X}: {predicted_Y}\")\n"
   ]
  },
  {
   "cell_type": "markdown",
   "id": "e187c964-3ab2-4ae3-a52c-4e6052c30911",
   "metadata": {},
   "source": [
    "## **📌 Soal 3: Random Values Array** 📝\n",
    "\n",
    "Pertama-tama, buatlah **Array Integer 10x10x10** dengan elemen **random** dan carikan:<br>\n",
    "1️⃣ Cari elemen minimum dan maksimum dalam array tersebut?<br>\n",
    "2️⃣ Carilah rata-rata dan median seluruh elemen dalam array tersebut?<br>"
   ]
  },
  {
   "cell_type": "code",
   "execution_count": 79,
   "id": "ba1aa95d-56ce-4834-8d73-7e27e4cc1901",
   "metadata": {},
   "outputs": [
    {
     "name": "stdout",
     "output_type": "stream",
     "text": [
      "Array 10x10x10:\n",
      "[[[39 56 62 15  6 33 35 92 66 32]\n",
      "  [33 84 87 51 13 55 21 80 15 66]\n",
      "  [58 41 11  6 26 24 78 97 97 18]\n",
      "  [33 11 97 63  5 86 78 24 32 21]\n",
      "  [34 14  1 77 27 31 72 57 55 59]\n",
      "  [72 47 20 88 13 92 97 26 98 63]\n",
      "  [16  4 40 52 22 28  8 25 18 42]\n",
      "  [64 24 96 89 99 47 35 87 88 65]\n",
      "  [73 24  0 26 78 18 44  4 69 81]\n",
      "  [82 55 28 88 81 81 20  3 73 52]]\n",
      "\n",
      " [[44 46 23 93 55 23 42 99 34 31]\n",
      "  [35 64 93  0 26 32 44 55 32 47]\n",
      "  [76 78 41 31 18 69 73 75 49 48]\n",
      "  [50 95 21 25 83 15 37 70 68 50]\n",
      "  [73 49 42 40  8 82 92 80 70 44]\n",
      "  [35 55  7 78 33 56  6 45 10 47]\n",
      "  [17 20 96 41 29 38  8 62 55 93]\n",
      "  [42 37 70 35 50 72 20 75 85 50]\n",
      "  [17 40 80 42 11 43 50 27 57 72]\n",
      "  [73 75 69  0 78 82 69 17 42 90]]\n",
      "\n",
      " [[96 86 89 73 15  8 39 97 85 26]\n",
      "  [37 10 45 36 66 92 72 27 61 17]\n",
      "  [47 67 16 12 44 31 45 25 46 87]\n",
      "  [68 88 77 40 10 27 85 19 25 79]\n",
      "  [73 14 38 46 56 31 67 54  1 45]\n",
      "  [11 17 91 68 67 69 36 95 67 55]\n",
      "  [65 70  6 76 26 34 12 86 98 74]\n",
      "  [85 14 70 94  1 82 55 19 61 18]\n",
      "  [84 35 16  8 17 38 30 32 42  3]\n",
      "  [97 70  6 44 92 20 39 18 44 33]]\n",
      "\n",
      " [[70 56 30 91 93 46 21  7 68 81]\n",
      "  [87 31 10 58 84 52 27 35 58 63]\n",
      "  [ 5 48 40 96 30 75 73 29 52  3]\n",
      "  [ 0 47 19 37 94 50 18 74  6 40]\n",
      "  [32  8 57 36 46 62 60  8 17 21]\n",
      "  [12  4 97 96 78 17 57 11 83 93]\n",
      "  [54 63  5 64 71 83 19 73 23 85]\n",
      "  [54 93 18 99 12 33 17 51  9 34]\n",
      "  [66 35 73 86 83 63 55 29 40 85]\n",
      "  [77 86 65 12 82 77 61 81 89  4]]\n",
      "\n",
      " [[25 63 43 48 18  8  8 40 24 72]\n",
      "  [ 2 84 96 23 21 16  5 46 69 51]\n",
      "  [12 37 35 53 78 51 83  2 10  3]\n",
      "  [51  6 45 40 16 95 17 96  2 82]\n",
      "  [37 68 66 45 69 71 40 34 53 93]\n",
      "  [13  0 26 13 80 39 65 81 62 43]\n",
      "  [11 47 23 69  0 47 65  0 93 72]\n",
      "  [93 72 10 35 22 39 74  3 90 44]\n",
      "  [85 98  1 17 48 54 68 96 75 48]\n",
      "  [34  4 67 91 83 84 66 29 77  9]]\n",
      "\n",
      " [[27 32 42 48 21 41 94 72 42 58]\n",
      "  [11 99 31 73 12 37 87 12 80 72]\n",
      "  [84 75 80 47 92 16 82 35 57  1]\n",
      "  [24 83 45 18 65 81 27 85 88 79]\n",
      "  [84 64 36 49 54 57 99 75 25 35]\n",
      "  [76 96 56 85 64 27 14 46 29 85]\n",
      "  [65 72 26 21 23 70 99 52 81 93]\n",
      "  [85 48 71 31 99  3 78 27 93 51]\n",
      "  [15 41  9  6 85 59 62 54 38 44]\n",
      "  [73 15 38 97 46 18 52 53 60 92]]\n",
      "\n",
      " [[ 0 20 51  5 99 48 59 20 85 39]\n",
      "  [71  9 49 34 43 80  7 45 13 79]\n",
      "  [81 52 21 11 70 50 53 17 57 56]\n",
      "  [87 77  0 93  2 79 55 43 11 37]\n",
      "  [67 54 55 71 33 77 46 64 36 85]\n",
      "  [52 63 54 69 58 38 52 34 85 27]\n",
      "  [ 1 43 41 24 71 57 89 29 77  5]\n",
      "  [60 12 32 34 47 53 80 42 49 82]\n",
      "  [55 12 89 41 16 94 94 97  9 92]\n",
      "  [52 73 76 80 76 91 64  9 18 30]]\n",
      "\n",
      " [[ 4 24 48 14 63  6 44 14 68 26]\n",
      "  [75 23 63  6 78 21 49 75 85 32]\n",
      "  [15 30 37 29 82 91 49 77 71 72]\n",
      "  [88 96 85 65 55 40  1 26 39 34]\n",
      "  [20 78 87 88 86 61 49 76 14  6]\n",
      "  [22 16 92 51 97 69 65 74 94 66]\n",
      "  [45 52 69 69 27 56  8 66 81 91]\n",
      "  [93 27  6 81 51 36 12 46 36 87]\n",
      "  [55 84  7 66 59 85 41 57  9 27]\n",
      "  [39 75 72  2 40 98 83 68  5 21]]\n",
      "\n",
      " [[30 38 38 13 98 49 77 33 58 10]\n",
      "  [89 88 58 37 13 18 63 53 88  9]\n",
      "  [13 78 78 27 37 26 66 31 21 89]\n",
      "  [38 72 77  7 84 40 70 31 40 90]\n",
      "  [70 72 85 63 76  3  8  1 66 61]\n",
      "  [27  1 54 58 30 51 22 70 77  4]\n",
      "  [18 72  0 95 33 23 42 42 89 36]\n",
      "  [ 7 75 78 93 75 65 41 97 83 46]\n",
      "  [73  0 53 21 35 37 25 33 53 49]\n",
      "  [16 84 89 86 66  2 28 92  4 67]]\n",
      "\n",
      " [[84 21  9  7 80 55 94 97 23 68]\n",
      "  [55 22 57 12 15 14 31 38 53 46]\n",
      "  [68 17 55 91 53 12 88 26 54 20]\n",
      "  [30 35 68  5  8 63 43 29  1 55]\n",
      "  [76 31 82 74 62 40 44 79 68 11]\n",
      "  [89 83 58 30 40 81  0 34  6 92]\n",
      "  [28  7 35 38 37 73 44 69 87 76]\n",
      "  [78 52 84  1  8 71 36 19 73 24]\n",
      "  [81 79 84 13 70 25 15 28 79 38]\n",
      "  [71 91 33 26 98 20 82 25 17 46]]]\n",
      "Elemen minimum dalam array: 0\n",
      "Elemen maksimum dalam array: 99\n"
     ]
    }
   ],
   "source": [
    "# Membuat array 10x10x10 dengan elemen random integer antara 0 dan 100\n",
    "array = np.random.randint(0, 100, size=(10, 10, 10))\n",
    "\n",
    "# Menampilkan array untuk referensi\n",
    "print(\"Array 10x10x10:\")\n",
    "print(array)\n",
    "\n",
    "# Mencari elemen minimum dan maksimum\n",
    "min_value = np.min(array)\n",
    "max_value = np.max(array)\n",
    "\n",
    "print(f\"Elemen minimum dalam array: {min_value}\")\n",
    "print(f\"Elemen maksimum dalam array: {max_value}\")"
   ]
  },
  {
   "cell_type": "code",
   "execution_count": 80,
   "id": "c7cd0420-9393-449a-bcec-e5947b24b327",
   "metadata": {},
   "outputs": [
    {
     "name": "stdout",
     "output_type": "stream",
     "text": [
      "Rata-rata seluruh elemen dalam array: 49.508\n",
      "Median seluruh elemen dalam array: 49.0\n"
     ]
    }
   ],
   "source": [
    "# Mencari rata-rata seluruh elemen dalam array\n",
    "mean_value = np.mean(array)\n",
    "\n",
    "# Mencari median seluruh elemen dalam array\n",
    "median_value = np.median(array)\n",
    "\n",
    "# Menampilkan hasil\n",
    "print(f\"Rata-rata seluruh elemen dalam array: {mean_value}\")\n",
    "print(f\"Median seluruh elemen dalam array: {median_value}\")"
   ]
  },
  {
   "cell_type": "markdown",
   "id": "1f248c96-688d-462a-b41e-5a2275be5fde",
   "metadata": {},
   "source": [
    "## **📌 Soal 4: 2D Array Shenanigans** 📝\n",
    "\n",
    "Tugas kamu disini adalah membuat **Array 2D** sesuai ketentuan masing-masing soal: <br>\n",
    "1️⃣ Buatlah **array 10x10** yang memiliki angka \"5\" sebagai bingkai di seluruh tepi luar dan bagian dalam (selain array) berisi \"8\"? <br>\n",
    "2️⃣ Buatlah **array 2d 8x8** dengan pola seperti **checkboard/catur** (1 untuk kotak hitam, 0 untuk kotak putih)?<br>\n",
    "3️⃣ Buatlah **array 2d 15x15** dengan aturan sebagai berikut:\n",
    "- Jika suatu angka dapat dibagi 2, isi dengan 2.\n",
    "- Jika suatu angka dapat dibagi 3, isi dengan 3.\n",
    "- Jika suatu angka dapat dibagi 5, isi dengan 5.\n",
    "- Jika suatu angka dapat dibagi oleh lebih dari satu kondisi (misal, 6 bisa dibagi 2 & 3), maka simpan gabungan angka tersebut (misal, 6 → \"23\", 15 → \"35\").\n",
    "- Jika tidak memenuhi kondisi apa pun, isi dengan 0."
   ]
  },
  {
   "cell_type": "code",
   "execution_count": 81,
   "id": "e4974640-df15-43f7-9ae5-fdc8ff8f47dd",
   "metadata": {},
   "outputs": [
    {
     "name": "stdout",
     "output_type": "stream",
     "text": [
      "Array 10x10 dengan bingkai 5 dan bagian dalam 8:\n",
      "[[5 5 5 5 5 5 5 5 5 5]\n",
      " [5 8 8 8 8 8 8 8 8 5]\n",
      " [5 8 8 8 8 8 8 8 8 5]\n",
      " [5 8 8 8 8 8 8 8 8 5]\n",
      " [5 8 8 8 8 8 8 8 8 5]\n",
      " [5 8 8 8 8 8 8 8 8 5]\n",
      " [5 8 8 8 8 8 8 8 8 5]\n",
      " [5 8 8 8 8 8 8 8 8 5]\n",
      " [5 8 8 8 8 8 8 8 8 5]\n",
      " [5 5 5 5 5 5 5 5 5 5]]\n"
     ]
    }
   ],
   "source": [
    "# Membuat array 10x10 yang berisi angka 8\n",
    "array_10x10 = np.full((10, 10), 8)\n",
    "\n",
    "# Menambahkan bingkai angka 5 di tepi luar\n",
    "array_10x10[0, :] = 5  # Baris pertama\n",
    "array_10x10[-1, :] = 5  # Baris terakhir\n",
    "array_10x10[:, 0] = 5   # Kolom pertama\n",
    "array_10x10[:, -1] = 5  # Kolom terakhir\n",
    "\n",
    "print(\"Array 10x10 dengan bingkai 5 dan bagian dalam 8:\")\n",
    "print(array_10x10)"
   ]
  },
  {
   "cell_type": "code",
   "execution_count": 82,
   "id": "0af5bcce-4fe7-489e-a23e-24e7ca11108f",
   "metadata": {},
   "outputs": [
    {
     "name": "stdout",
     "output_type": "stream",
     "text": [
      "\n",
      "Array 8x8 dengan pola catur:\n",
      "[[0 1 0 1 0 1 0 1]\n",
      " [1 0 1 0 1 0 1 0]\n",
      " [0 1 0 1 0 1 0 1]\n",
      " [1 0 1 0 1 0 1 0]\n",
      " [0 1 0 1 0 1 0 1]\n",
      " [1 0 1 0 1 0 1 0]\n",
      " [0 1 0 1 0 1 0 1]\n",
      " [1 0 1 0 1 0 1 0]]\n"
     ]
    }
   ],
   "source": [
    "# Membuat array 8x8 untuk pola catur\n",
    "array_8x8 = np.zeros((8, 8), dtype=int)\n",
    "\n",
    "# Mengisi pola catur\n",
    "array_8x8[1::2, ::2] = 1  # Kotak hitam pada baris ganjil dan kolom genap\n",
    "array_8x8[::2, 1::2] = 1  # Kotak hitam pada baris genap dan kolom ganjil\n",
    "\n",
    "print(\"\\nArray 8x8 dengan pola catur:\")\n",
    "print(array_8x8)"
   ]
  },
  {
   "cell_type": "code",
   "execution_count": 83,
   "id": "5e591f0a-78d8-47e4-97d5-d56bff180984",
   "metadata": {},
   "outputs": [
    {
     "name": "stdout",
     "output_type": "stream",
     "text": [
      "\n",
      "Array 15x15 dengan aturan pembagian 2, 3, 5:\n",
      "[[0 '2' '3' '2' '5' '23' 0 '2' '3' '25' 0 '23' 0 '2' '35']\n",
      " ['2' 0 '23' 0 '25' '3' '2' 0 '23' '5' '2' '3' '2' 0 '235']\n",
      " [0 '2' '3' '2' '5' '23' 0 '2' '3' '25' 0 '23' 0 '2' '35']\n",
      " ['2' 0 '23' 0 '25' '3' '2' 0 '23' '5' '2' '3' '2' 0 '235']\n",
      " [0 '2' '3' '2' '5' '23' 0 '2' '3' '25' 0 '23' 0 '2' '35']\n",
      " ['2' 0 '23' 0 '25' '3' '2' 0 '23' '5' '2' '3' '2' 0 '235']\n",
      " [0 '2' '3' '2' '5' '23' 0 '2' '3' '25' 0 '23' 0 '2' '35']\n",
      " ['2' 0 '23' 0 '25' '3' '2' 0 '23' '5' '2' '3' '2' 0 '235']\n",
      " [0 '2' '3' '2' '5' '23' 0 '2' '3' '25' 0 '23' 0 '2' '35']\n",
      " ['2' 0 '23' 0 '25' '3' '2' 0 '23' '5' '2' '3' '2' 0 '235']\n",
      " [0 '2' '3' '2' '5' '23' 0 '2' '3' '25' 0 '23' 0 '2' '35']\n",
      " ['2' 0 '23' 0 '25' '3' '2' 0 '23' '5' '2' '3' '2' 0 '235']\n",
      " [0 '2' '3' '2' '5' '23' 0 '2' '3' '25' 0 '23' 0 '2' '35']\n",
      " ['2' 0 '23' 0 '25' '3' '2' 0 '23' '5' '2' '3' '2' 0 '235']\n",
      " [0 '2' '3' '2' '5' '23' 0 '2' '3' '25' 0 '23' 0 '2' '35']]\n"
     ]
    }
   ],
   "source": [
    "# Membuat array 15x15 dengan aturan pembagian\n",
    "array_15x15 = np.zeros((15, 15), dtype=object)\n",
    "\n",
    "# Mengisi array berdasarkan aturan\n",
    "for i in range(15):\n",
    "    for j in range(15):\n",
    "        num = i * 15 + j + 1  # Menghitung angka sesuai posisi dalam array\n",
    "        result = ''\n",
    "        \n",
    "        if num % 2 == 0:\n",
    "            result += '2'\n",
    "        if num % 3 == 0:\n",
    "            result += '3'\n",
    "        if num % 5 == 0:\n",
    "            result += '5'\n",
    "        \n",
    "        # Jika tidak ada pembagian yang memenuhi, tetap 0\n",
    "        array_15x15[i, j] = result if result else 0\n",
    "\n",
    "print(\"\\nArray 15x15 dengan aturan pembagian 2, 3, 5:\")\n",
    "print(array_15x15)"
   ]
  },
  {
   "cell_type": "markdown",
   "id": "4b963ba6-4272-4773-ab58-33ade2e536bd",
   "metadata": {},
   "source": [
    "## **📌 Soal 5: Time & Date** 📝\n",
    "\n",
    "Kamu disini diminta untuk memanfaatkan fitur numpy untuk tanggal: <br>\n",
    "1️⃣ Bagaimana dengan numpy, kamu bisa mendapatkan tanggal hari ini, kemarin dan esok hari?<br>\n",
    "2️⃣ Tampilkan hari yang ada di bulan Mei tahun 2020?<br>"
   ]
  },
  {
   "cell_type": "code",
   "execution_count": 84,
   "id": "ac7ccf05-97da-484f-96c9-fc578e62bbbe",
   "metadata": {},
   "outputs": [
    {
     "name": "stdout",
     "output_type": "stream",
     "text": [
      "Tanggal hari ini: 2025-02-21\n",
      "Tanggal kemarin: 2025-02-20\n",
      "Tanggal esok hari: 2025-02-22\n"
     ]
    }
   ],
   "source": [
    "# Mendapatkan tanggal hari ini\n",
    "today = np.datetime64('today', 'D')\n",
    "\n",
    "# Mendapatkan tanggal kemarin (1 hari sebelum hari ini)\n",
    "yesterday = today - np.timedelta64(1, 'D')\n",
    "\n",
    "# Mendapatkan tanggal esok hari (1 hari setelah hari ini)\n",
    "tomorrow = today + np.timedelta64(1, 'D')\n",
    "\n",
    "print(f\"Tanggal hari ini: {today}\")\n",
    "print(f\"Tanggal kemarin: {yesterday}\")\n",
    "print(f\"Tanggal esok hari: {tomorrow}\")"
   ]
  },
  {
   "cell_type": "code",
   "execution_count": 85,
   "id": "88e6133e",
   "metadata": {},
   "outputs": [
    {
     "name": "stdout",
     "output_type": "stream",
     "text": [
      "Tanggal 2020-05-01 adalah hari Friday\n",
      "Tanggal 2020-05-02 adalah hari Saturday\n",
      "Tanggal 2020-05-03 adalah hari Sunday\n",
      "Tanggal 2020-05-04 adalah hari Monday\n",
      "Tanggal 2020-05-05 adalah hari Tuesday\n",
      "Tanggal 2020-05-06 adalah hari Wednesday\n",
      "Tanggal 2020-05-07 adalah hari Thursday\n",
      "Tanggal 2020-05-08 adalah hari Friday\n",
      "Tanggal 2020-05-09 adalah hari Saturday\n",
      "Tanggal 2020-05-10 adalah hari Sunday\n",
      "Tanggal 2020-05-11 adalah hari Monday\n",
      "Tanggal 2020-05-12 adalah hari Tuesday\n",
      "Tanggal 2020-05-13 adalah hari Wednesday\n",
      "Tanggal 2020-05-14 adalah hari Thursday\n",
      "Tanggal 2020-05-15 adalah hari Friday\n",
      "Tanggal 2020-05-16 adalah hari Saturday\n",
      "Tanggal 2020-05-17 adalah hari Sunday\n",
      "Tanggal 2020-05-18 adalah hari Monday\n",
      "Tanggal 2020-05-19 adalah hari Tuesday\n",
      "Tanggal 2020-05-20 adalah hari Wednesday\n",
      "Tanggal 2020-05-21 adalah hari Thursday\n",
      "Tanggal 2020-05-22 adalah hari Friday\n",
      "Tanggal 2020-05-23 adalah hari Saturday\n",
      "Tanggal 2020-05-24 adalah hari Sunday\n",
      "Tanggal 2020-05-25 adalah hari Monday\n",
      "Tanggal 2020-05-26 adalah hari Tuesday\n",
      "Tanggal 2020-05-27 adalah hari Wednesday\n",
      "Tanggal 2020-05-28 adalah hari Thursday\n",
      "Tanggal 2020-05-29 adalah hari Friday\n",
      "Tanggal 2020-05-30 adalah hari Saturday\n",
      "Tanggal 2020-05-31 adalah hari Sunday\n"
     ]
    }
   ],
   "source": [
    "# Rentang tanggal dari 1 Mei 2020 hingga 31 Mei 2020\n",
    "may_dates = np.arange('2020-05-01', '2020-06-01', dtype='datetime64[D]')\n",
    "\n",
    "# Menampilkan hari dari setiap tanggal\n",
    "for date in may_dates:\n",
    "    print(f\"Tanggal {date} adalah hari {date.astype('datetime64[D]').item().strftime('%A')}\")"
   ]
  },
  {
   "cell_type": "markdown",
   "id": "63d149d6-61a5-481c-bc7c-9e1e8b389c28",
   "metadata": {},
   "source": []
  },
  {
   "cell_type": "markdown",
   "id": "eccc9d2f-8a7a-424c-ab89-ad5e52ca20a4",
   "metadata": {},
   "source": [
    "## **📌 Soal 6: Slicing** 📝\n",
    "\n",
    "Jika diketahui array `A`, maka buatlah program untuk mendapatkan elemen dibawah ini:\n",
    "```python\n",
    "A = np.array([\n",
    "    [10, 20, 30, 40, 50, 60],\n",
    "    [70, 80, 90, 100, 110, 120],\n",
    "    [130, 140, 150, 160, 170, 180],\n",
    "    [190, 200, 210, 220, 230, 240],\n",
    "    [250, 260, 270, 280, 290, 300]\n",
    "])\n",
    "```\n",
    "\n",
    "1️⃣ Ambil elemen yang berada pada baris `ke-4` dan kolom `ke-2` dari array `A` <br>\n",
    "2️⃣ Buat `array 2D` yang hanya berisi bilangan prima dari `A` <br>\n",
    "3️⃣ Ambil elemen-elemen yang berada di tepi luar dari array `A` dan gabungkan menjadi `Satu array 1D`. <br>\n",
    "4️⃣ Dapatkan subbarray berikut:\n",
    "```python\n",
    "[[20, 40, 60],\n",
    " [80, 100, 120],\n",
    " [140, 160, 180],\n",
    " [200, 220, 240],\n",
    " [260, 280, 300]]\n",
    "```\n",
    "5️⃣ Dapatkan subbarray berikut:\n",
    "```python\n",
    " [[30, 40],\n",
    " [90, 100],\n",
    " [150, 160],\n",
    " [210, 220]]\n",
    "```"
   ]
  },
  {
   "cell_type": "code",
   "execution_count": 86,
   "id": "4ef1d236-2f82-45f5-a50a-bd202aef8084",
   "metadata": {},
   "outputs": [
    {
     "name": "stdout",
     "output_type": "stream",
     "text": [
      "Elemen pada baris ke-4 dan kolom ke-2: 200\n"
     ]
    }
   ],
   "source": [
    "A = np.array([\n",
    "    [10, 20, 30, 40, 50, 60],\n",
    "    [70, 80, 90, 100, 110, 120],\n",
    "    [130, 140, 150, 160, 170, 180],\n",
    "    [190, 200, 210, 220, 230, 240],\n",
    "    [250, 260, 270, 280, 290, 300]\n",
    "])\n",
    "\n",
    "# Ambil elemen baris ke-4 dan kolom ke-2\n",
    "element = A[3, 1]  # Baris ke-4 adalah indeks 3, kolom ke-2 adalah indeks 1\n",
    "print(f\"Elemen pada baris ke-4 dan kolom ke-2: {element}\")"
   ]
  },
  {
   "cell_type": "code",
   "execution_count": 87,
   "id": "e719e525-cf78-484e-9c40-a708a58b387e",
   "metadata": {},
   "outputs": [
    {
     "name": "stdout",
     "output_type": "stream",
     "text": [
      "Array 2D yang hanya berisi bilangan prima: \n",
      "[]\n"
     ]
    }
   ],
   "source": [
    "# Fungsi untuk memeriksa apakah sebuah angka adalah bilangan prima\n",
    "def is_prime(n):\n",
    "    if n <= 1:\n",
    "        return False\n",
    "    for i in range(2, int(n**0.5) + 1):\n",
    "        if n % i == 0:\n",
    "            return False\n",
    "    return True\n",
    "\n",
    "# Menyaring bilangan prima dari array A\n",
    "prime_elements = A[np.vectorize(is_prime)(A)]\n",
    "prime_elements_2d = prime_elements[prime_elements > 0].reshape(-1, 1)  # Membuat array 2D\n",
    "print(f\"Array 2D yang hanya berisi bilangan prima: \\n{prime_elements_2d}\")"
   ]
  },
  {
   "cell_type": "markdown",
   "id": "58b58abb",
   "metadata": {},
   "source": [
    "Tidak ada bilangan prima dari array A"
   ]
  },
  {
   "cell_type": "code",
   "execution_count": 88,
   "id": "f9b0d1e6-c30b-4828-8ad3-0a71367905ba",
   "metadata": {},
   "outputs": [
    {
     "name": "stdout",
     "output_type": "stream",
     "text": [
      "Elemen tepi luar digabungkan menjadi array 1D: \n",
      "[ 10  20  30  40  50  60 250 260 270 280 290 300  70 130 190 120 180 240]\n"
     ]
    }
   ],
   "source": [
    "# Mengambil elemen tepi luar dari array A\n",
    "top = A[0, :]\n",
    "bottom = A[-1, :]\n",
    "left = A[:, 0]\n",
    "right = A[:, -1]\n",
    "\n",
    "# Menggabungkan elemen-elemen tepi luar menjadi satu array 1D\n",
    "edge_elements = np.concatenate((top, bottom, left[1:-1], right[1:-1]))  # Menyingkirkan duplikasi sudut\n",
    "print(f\"Elemen tepi luar digabungkan menjadi array 1D: \\n{edge_elements}\")"
   ]
  },
  {
   "cell_type": "code",
   "execution_count": 89,
   "id": "cc637fd0-78d7-45f8-b4e8-dbde6c3e6dfc",
   "metadata": {},
   "outputs": [
    {
     "name": "stdout",
     "output_type": "stream",
     "text": [
      "Subarray yang diambil: \n",
      "[[ 20  40  60]\n",
      " [ 80 100 120]\n",
      " [140 160 180]\n",
      " [200 220 240]\n",
      " [260 280 300]]\n"
     ]
    }
   ],
   "source": [
    "# Mengambil subarray sesuai permintaan\n",
    "subarray1 = A[:, [1, 3, 5]]\n",
    "print(f\"Subarray yang diambil: \\n{subarray1}\")"
   ]
  },
  {
   "cell_type": "code",
   "execution_count": 90,
   "id": "f52e24b4-98f6-41fe-9aab-8d9d243c16e1",
   "metadata": {},
   "outputs": [
    {
     "name": "stdout",
     "output_type": "stream",
     "text": [
      "Subarray yang diambil: \n",
      "[[ 30  40]\n",
      " [ 90 100]\n",
      " [150 160]\n",
      " [210 220]\n",
      " [270 280]]\n"
     ]
    }
   ],
   "source": [
    "# Mengambil subarray sesuai permintaan\n",
    "subarray2 = A[:, [2, 3]]\n",
    "print(f\"Subarray yang diambil: \\n{subarray2}\")"
   ]
  },
  {
   "cell_type": "markdown",
   "id": "c69b198a-5558-4ca3-8dea-c5a8d1ca81e9",
   "metadata": {},
   "source": [
    "## **📌 Soal 7: Ekspansi Array** 📝\n",
    "\n",
    "Jika kamu memiliki array ***Z = [1,2,3,4,5,6,7,8,9,10,11,12,13,14]***, buatlah kode untuk membuat array R berupa: <br>\n",
    "***R = [[1,2,3,4], [2,3,4,5], [3,4,5,6], ..., [11,12,13,14]]***?"
   ]
  },
  {
   "cell_type": "code",
   "execution_count": 91,
   "id": "6f77ba10-4474-44cd-aa7c-5a6c3940e22a",
   "metadata": {},
   "outputs": [
    {
     "name": "stdout",
     "output_type": "stream",
     "text": [
      "Array R:\n",
      "[[ 1  2  3  4]\n",
      " [ 2  3  4  5]\n",
      " [ 3  4  5  6]\n",
      " [ 4  5  6  7]\n",
      " [ 5  6  7  8]\n",
      " [ 6  7  8  9]\n",
      " [ 7  8  9 10]\n",
      " [ 8  9 10 11]\n",
      " [ 9 10 11 12]\n",
      " [10 11 12 13]\n",
      " [11 12 13 14]]\n"
     ]
    }
   ],
   "source": [
    "# Array Z yang diberikan\n",
    "Z = np.array([1, 2, 3, 4, 5, 6, 7, 8, 9, 10, 11, 12, 13, 14])\n",
    "\n",
    "# Membuat array R dengan slicing, dengan setiap subarray terdiri dari 4 elemen berturut-turut\n",
    "R = np.array([Z[i:i+4] for i in range(len(Z)-3)])\n",
    "\n",
    "print(\"Array R:\")\n",
    "print(R)"
   ]
  }
 ],
 "metadata": {
  "kernelspec": {
   "display_name": "base",
   "language": "python",
   "name": "python3"
  },
  "language_info": {
   "codemirror_mode": {
    "name": "ipython",
    "version": 3
   },
   "file_extension": ".py",
   "mimetype": "text/x-python",
   "name": "python",
   "nbconvert_exporter": "python",
   "pygments_lexer": "ipython3",
   "version": "3.12.7"
  }
 },
 "nbformat": 4,
 "nbformat_minor": 5
}

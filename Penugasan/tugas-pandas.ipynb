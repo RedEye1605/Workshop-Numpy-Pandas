{
  "cells": [
    {
      "cell_type": "markdown",
      "metadata": {
        "id": "BhX-rgVtc6G8"
      },
      "source": [
        "# **TUGAS PANDAS**\n",
        "\n",
        "---\n",
        "\n",
        "\n",
        "Nama    : Rhendy Japelhendal Saragih Sumbayak\n",
        "\n",
        "NIM     : 235150407111015"
      ]
    },
    {
      "cell_type": "markdown",
      "metadata": {
        "id": "2zJYH13CdBoD"
      },
      "source": [
        "Setelah mengikuti workshop Numpy dan Pandas, tentunya kalian sudah mulai memahami hal-hal apa saja yang akan dilakukan oleh Data Scientist dengan Pandas. Sekarang, saatnya mengukur kemampuan kalian dari apa yang telah kalian dapatkan pada workshop sebelumnya.\n",
        "\n",
        "**Deadline: Jumat, 21 Februari 2025**\n"
      ]
    },
    {
      "cell_type": "markdown",
      "metadata": {
        "id": "MAMWkctXe8vD"
      },
      "source": [
        "## **Dataset**\n",
        "\n",
        "Pada penugasan kali ini, dataset yang digunakan adalah dataset titanic.\n"
      ]
    },
    {
      "cell_type": "code",
      "execution_count": 38,
      "metadata": {
        "id": "XUxMllMQcT8r"
      },
      "outputs": [
        {
          "name": "stderr",
          "output_type": "stream",
          "text": [
            "  % Total    % Received % Xferd  Average Speed   Time    Time     Time  Current\n",
            "                                 Dload  Upload   Total   Spent    Left  Speed\n",
            "\n",
            "  0     0    0     0    0     0      0      0 --:--:-- --:--:-- --:--:--     0\n",
            "100 60302  100 60302    0     0   235k      0 --:--:-- --:--:-- --:--:--  237k\n"
          ]
        }
      ],
      "source": [
        "# !wget https://raw.githubusercontent.com/datasciencedojo/datasets/master/titanic.csv\n",
        "\n",
        "!curl -O https://raw.githubusercontent.com/datasciencedojo/datasets/master/titanic.csv"
      ]
    },
    {
      "cell_type": "code",
      "execution_count": 39,
      "metadata": {
        "id": "631OgFzneOsF"
      },
      "outputs": [
        {
          "data": {
            "application/vnd.microsoft.datawrangler.viewer.v0+json": {
              "columns": [
                {
                  "name": "index",
                  "rawType": "int64",
                  "type": "integer"
                },
                {
                  "name": "PassengerId",
                  "rawType": "int64",
                  "type": "integer"
                },
                {
                  "name": "Survived",
                  "rawType": "int64",
                  "type": "integer"
                },
                {
                  "name": "Pclass",
                  "rawType": "int64",
                  "type": "integer"
                },
                {
                  "name": "Name",
                  "rawType": "object",
                  "type": "string"
                },
                {
                  "name": "Sex",
                  "rawType": "object",
                  "type": "string"
                },
                {
                  "name": "Age",
                  "rawType": "float64",
                  "type": "float"
                },
                {
                  "name": "SibSp",
                  "rawType": "int64",
                  "type": "integer"
                },
                {
                  "name": "Parch",
                  "rawType": "int64",
                  "type": "integer"
                },
                {
                  "name": "Ticket",
                  "rawType": "object",
                  "type": "string"
                },
                {
                  "name": "Fare",
                  "rawType": "float64",
                  "type": "float"
                },
                {
                  "name": "Cabin",
                  "rawType": "object",
                  "type": "unknown"
                },
                {
                  "name": "Embarked",
                  "rawType": "object",
                  "type": "string"
                }
              ],
              "conversionMethod": "pd.DataFrame",
              "ref": "cd786fd8-25f7-45f6-8ef9-266d8ec7d26c",
              "rows": [
                [
                  "0",
                  "1",
                  "0",
                  "3",
                  "Braund, Mr. Owen Harris",
                  "male",
                  "22.0",
                  "1",
                  "0",
                  "A/5 21171",
                  "7.25",
                  null,
                  "S"
                ],
                [
                  "1",
                  "2",
                  "1",
                  "1",
                  "Cumings, Mrs. John Bradley (Florence Briggs Thayer)",
                  "female",
                  "38.0",
                  "1",
                  "0",
                  "PC 17599",
                  "71.2833",
                  "C85",
                  "C"
                ],
                [
                  "2",
                  "3",
                  "1",
                  "3",
                  "Heikkinen, Miss. Laina",
                  "female",
                  "26.0",
                  "0",
                  "0",
                  "STON/O2. 3101282",
                  "7.925",
                  null,
                  "S"
                ],
                [
                  "3",
                  "4",
                  "1",
                  "1",
                  "Futrelle, Mrs. Jacques Heath (Lily May Peel)",
                  "female",
                  "35.0",
                  "1",
                  "0",
                  "113803",
                  "53.1",
                  "C123",
                  "S"
                ],
                [
                  "4",
                  "5",
                  "0",
                  "3",
                  "Allen, Mr. William Henry",
                  "male",
                  "35.0",
                  "0",
                  "0",
                  "373450",
                  "8.05",
                  null,
                  "S"
                ]
              ],
              "shape": {
                "columns": 12,
                "rows": 5
              }
            },
            "text/html": [
              "<div>\n",
              "<style scoped>\n",
              "    .dataframe tbody tr th:only-of-type {\n",
              "        vertical-align: middle;\n",
              "    }\n",
              "\n",
              "    .dataframe tbody tr th {\n",
              "        vertical-align: top;\n",
              "    }\n",
              "\n",
              "    .dataframe thead th {\n",
              "        text-align: right;\n",
              "    }\n",
              "</style>\n",
              "<table border=\"1\" class=\"dataframe\">\n",
              "  <thead>\n",
              "    <tr style=\"text-align: right;\">\n",
              "      <th></th>\n",
              "      <th>PassengerId</th>\n",
              "      <th>Survived</th>\n",
              "      <th>Pclass</th>\n",
              "      <th>Name</th>\n",
              "      <th>Sex</th>\n",
              "      <th>Age</th>\n",
              "      <th>SibSp</th>\n",
              "      <th>Parch</th>\n",
              "      <th>Ticket</th>\n",
              "      <th>Fare</th>\n",
              "      <th>Cabin</th>\n",
              "      <th>Embarked</th>\n",
              "    </tr>\n",
              "  </thead>\n",
              "  <tbody>\n",
              "    <tr>\n",
              "      <th>0</th>\n",
              "      <td>1</td>\n",
              "      <td>0</td>\n",
              "      <td>3</td>\n",
              "      <td>Braund, Mr. Owen Harris</td>\n",
              "      <td>male</td>\n",
              "      <td>22.0</td>\n",
              "      <td>1</td>\n",
              "      <td>0</td>\n",
              "      <td>A/5 21171</td>\n",
              "      <td>7.2500</td>\n",
              "      <td>NaN</td>\n",
              "      <td>S</td>\n",
              "    </tr>\n",
              "    <tr>\n",
              "      <th>1</th>\n",
              "      <td>2</td>\n",
              "      <td>1</td>\n",
              "      <td>1</td>\n",
              "      <td>Cumings, Mrs. John Bradley (Florence Briggs Th...</td>\n",
              "      <td>female</td>\n",
              "      <td>38.0</td>\n",
              "      <td>1</td>\n",
              "      <td>0</td>\n",
              "      <td>PC 17599</td>\n",
              "      <td>71.2833</td>\n",
              "      <td>C85</td>\n",
              "      <td>C</td>\n",
              "    </tr>\n",
              "    <tr>\n",
              "      <th>2</th>\n",
              "      <td>3</td>\n",
              "      <td>1</td>\n",
              "      <td>3</td>\n",
              "      <td>Heikkinen, Miss. Laina</td>\n",
              "      <td>female</td>\n",
              "      <td>26.0</td>\n",
              "      <td>0</td>\n",
              "      <td>0</td>\n",
              "      <td>STON/O2. 3101282</td>\n",
              "      <td>7.9250</td>\n",
              "      <td>NaN</td>\n",
              "      <td>S</td>\n",
              "    </tr>\n",
              "    <tr>\n",
              "      <th>3</th>\n",
              "      <td>4</td>\n",
              "      <td>1</td>\n",
              "      <td>1</td>\n",
              "      <td>Futrelle, Mrs. Jacques Heath (Lily May Peel)</td>\n",
              "      <td>female</td>\n",
              "      <td>35.0</td>\n",
              "      <td>1</td>\n",
              "      <td>0</td>\n",
              "      <td>113803</td>\n",
              "      <td>53.1000</td>\n",
              "      <td>C123</td>\n",
              "      <td>S</td>\n",
              "    </tr>\n",
              "    <tr>\n",
              "      <th>4</th>\n",
              "      <td>5</td>\n",
              "      <td>0</td>\n",
              "      <td>3</td>\n",
              "      <td>Allen, Mr. William Henry</td>\n",
              "      <td>male</td>\n",
              "      <td>35.0</td>\n",
              "      <td>0</td>\n",
              "      <td>0</td>\n",
              "      <td>373450</td>\n",
              "      <td>8.0500</td>\n",
              "      <td>NaN</td>\n",
              "      <td>S</td>\n",
              "    </tr>\n",
              "  </tbody>\n",
              "</table>\n",
              "</div>"
            ],
            "text/plain": [
              "   PassengerId  Survived  Pclass  \\\n",
              "0            1         0       3   \n",
              "1            2         1       1   \n",
              "2            3         1       3   \n",
              "3            4         1       1   \n",
              "4            5         0       3   \n",
              "\n",
              "                                                Name     Sex   Age  SibSp  \\\n",
              "0                            Braund, Mr. Owen Harris    male  22.0      1   \n",
              "1  Cumings, Mrs. John Bradley (Florence Briggs Th...  female  38.0      1   \n",
              "2                             Heikkinen, Miss. Laina  female  26.0      0   \n",
              "3       Futrelle, Mrs. Jacques Heath (Lily May Peel)  female  35.0      1   \n",
              "4                           Allen, Mr. William Henry    male  35.0      0   \n",
              "\n",
              "   Parch            Ticket     Fare Cabin Embarked  \n",
              "0      0         A/5 21171   7.2500   NaN        S  \n",
              "1      0          PC 17599  71.2833   C85        C  \n",
              "2      0  STON/O2. 3101282   7.9250   NaN        S  \n",
              "3      0            113803  53.1000  C123        S  \n",
              "4      0            373450   8.0500   NaN        S  "
            ]
          },
          "execution_count": 39,
          "metadata": {},
          "output_type": "execute_result"
        }
      ],
      "source": [
        "import pandas as pd\n",
        "\n",
        "df = pd.read_csv('titanic.csv')\n",
        "df.head()"
      ]
    },
    {
      "cell_type": "markdown",
      "metadata": {
        "id": "Rquwsv-rgz4S"
      },
      "source": [
        "# **📊 Pandas Exercise: Titanic Dataset 🚢**\n",
        "\n",
        "Selamat datang di latihan eksplorasi data menggunakan **Pandas**!  \n",
        "Kita akan menggunakan dataset **Titanic** untuk menerapkan berbagai teknik analisis data seperti seleksi, agregasi, pengolahan nilai kosong, sorting, dan banyak lagi.  \n",
        "\n",
        "---\n",
        "\n",
        "## **📌 Soal 1: Menampilkan Informasi Dataset** 📝\n",
        "\n",
        "Tampilkan **informasi umum** tentang dataset Titanic, termasuk:  \n",
        "✅ Jumlah baris dan kolom  \n",
        "✅ Tipe data setiap kolom  \n",
        "✅ Jumlah nilai yang hilang dalam dataset  \n",
        "\n"
      ]
    },
    {
      "cell_type": "code",
      "execution_count": 40,
      "metadata": {
        "id": "854CxjoNidw4"
      },
      "outputs": [
        {
          "name": "stdout",
          "output_type": "stream",
          "text": [
            "Informasi Umum Dataset Titanic:\n",
            "===================================\n",
            "Jumlah Baris dan Kolom: (891, 12)\n",
            "\n",
            "Tipe Data Setiap Kolom:\n",
            "PassengerId      int64\n",
            "Survived         int64\n",
            "Pclass           int64\n",
            "Name            object\n",
            "Sex             object\n",
            "Age            float64\n",
            "SibSp            int64\n",
            "Parch            int64\n",
            "Ticket          object\n",
            "Fare           float64\n",
            "Cabin           object\n",
            "Embarked        object\n",
            "dtype: object\n",
            "\n",
            "Jumlah Nilai yang Hilang:\n",
            "PassengerId      0\n",
            "Survived         0\n",
            "Pclass           0\n",
            "Name             0\n",
            "Sex              0\n",
            "Age            177\n",
            "SibSp            0\n",
            "Parch            0\n",
            "Ticket           0\n",
            "Fare             0\n",
            "Cabin          687\n",
            "Embarked         2\n",
            "dtype: int64\n"
          ]
        }
      ],
      "source": [
        "import pandas as pd\n",
        "\n",
        "# Menampilkan informasi umum tentang dataset\n",
        "print(\"Informasi Umum Dataset Titanic:\")\n",
        "print(\"===================================\")\n",
        "print(f\"Jumlah Baris dan Kolom: {df.shape}\")\n",
        "print(\"\\nTipe Data Setiap Kolom:\")\n",
        "print(df.dtypes)\n",
        "print(\"\\nJumlah Nilai yang Hilang:\")\n",
        "print(df.isnull().sum())"
      ]
    },
    {
      "cell_type": "markdown",
      "metadata": {
        "id": "NVjpGt9FhYDS"
      },
      "source": [
        "## **📌 Soal 2: Menampilkan Ringkasan Statistik** 📊  \n",
        "\n",
        "### **Penjelasan:**  \n",
        "Ringkasan statistik membantu kita memahami distribusi data dalam dataset.  \n",
        "Coba tampilkan informasi seperti:  \n",
        "- **Rata-rata, min, max, standar deviasi**  \n",
        "- **Persentil (25%, 50%, 75%)**, yang menunjukkan distribusi data  \n"
      ]
    },
    {
      "cell_type": "code",
      "execution_count": 41,
      "metadata": {
        "id": "DJDiySn0hajG"
      },
      "outputs": [
        {
          "name": "stdout",
          "output_type": "stream",
          "text": [
            "Ringkasan Statistik Dataset Titanic:\n",
            "=====================================\n",
            "       PassengerId    Survived      Pclass         Age       SibSp  \\\n",
            "count   891.000000  891.000000  891.000000  714.000000  891.000000   \n",
            "mean    446.000000    0.383838    2.308642   29.699118    0.523008   \n",
            "std     257.353842    0.486592    0.836071   14.526497    1.102743   \n",
            "min       1.000000    0.000000    1.000000    0.420000    0.000000   \n",
            "25%     223.500000    0.000000    2.000000   20.125000    0.000000   \n",
            "50%     446.000000    0.000000    3.000000   28.000000    0.000000   \n",
            "75%     668.500000    1.000000    3.000000   38.000000    1.000000   \n",
            "max     891.000000    1.000000    3.000000   80.000000    8.000000   \n",
            "\n",
            "            Parch        Fare  \n",
            "count  891.000000  891.000000  \n",
            "mean     0.381594   32.204208  \n",
            "std      0.806057   49.693429  \n",
            "min      0.000000    0.000000  \n",
            "25%      0.000000    7.910400  \n",
            "50%      0.000000   14.454200  \n",
            "75%      0.000000   31.000000  \n",
            "max      6.000000  512.329200  \n"
          ]
        }
      ],
      "source": [
        "# Menampilkan ringkasan statistik untuk kolom numerik\n",
        "print(\"Ringkasan Statistik Dataset Titanic:\")\n",
        "print(\"=====================================\")\n",
        "print(df.describe())"
      ]
    },
    {
      "cell_type": "markdown",
      "metadata": {
        "id": "S2dosSyFfYxO"
      },
      "source": [
        "## **📌 Soal 3: Seleksi Data** 🎯  \n",
        "\n",
        "### **Penjelasan:**  \n",
        "Sering kali kita ingin **menyaring data** berdasarkan kondisi tertentu.  \n",
        "Misalnya, kita ingin melihat hanya penumpang **perempuan** yang masih **anak-anak** dan dengan fare pada kondisi tertentu.  \n",
        "Dengan **Boolean Indexing**, kita bisa memilih data berdasarkan kondisi seperti:  \n",
        "- **`Hanya menampilkan penumpang perempuan  `** \n",
        "- **`Hanya menampilkan anak-anak  `**\n",
        "- **`Hanya menampilkan Fare lebih dari 10 dan kurang dari sama dengan 30`**   \n",
        "- **`Hanya menampilkan sepuluh teratas`**"
      ]
    },
    {
      "cell_type": "code",
      "execution_count": 42,
      "metadata": {
        "id": "uJ7raM6ig4Va"
      },
      "outputs": [
        {
          "name": "stdout",
          "output_type": "stream",
          "text": [
            "Penumpang Perempuan:\n"
          ]
        },
        {
          "data": {
            "application/vnd.microsoft.datawrangler.viewer.v0+json": {
              "columns": [
                {
                  "name": "index",
                  "rawType": "int64",
                  "type": "integer"
                },
                {
                  "name": "PassengerId",
                  "rawType": "int64",
                  "type": "integer"
                },
                {
                  "name": "Survived",
                  "rawType": "int64",
                  "type": "integer"
                },
                {
                  "name": "Pclass",
                  "rawType": "int64",
                  "type": "integer"
                },
                {
                  "name": "Name",
                  "rawType": "object",
                  "type": "string"
                },
                {
                  "name": "Sex",
                  "rawType": "object",
                  "type": "string"
                },
                {
                  "name": "Age",
                  "rawType": "float64",
                  "type": "float"
                },
                {
                  "name": "SibSp",
                  "rawType": "int64",
                  "type": "integer"
                },
                {
                  "name": "Parch",
                  "rawType": "int64",
                  "type": "integer"
                },
                {
                  "name": "Ticket",
                  "rawType": "object",
                  "type": "string"
                },
                {
                  "name": "Fare",
                  "rawType": "float64",
                  "type": "float"
                },
                {
                  "name": "Cabin",
                  "rawType": "object",
                  "type": "unknown"
                },
                {
                  "name": "Embarked",
                  "rawType": "object",
                  "type": "string"
                }
              ],
              "conversionMethod": "pd.DataFrame",
              "ref": "491be6a7-f197-4485-b68f-890e47798e3a",
              "rows": [
                [
                  "1",
                  "2",
                  "1",
                  "1",
                  "Cumings, Mrs. John Bradley (Florence Briggs Thayer)",
                  "female",
                  "38.0",
                  "1",
                  "0",
                  "PC 17599",
                  "71.2833",
                  "C85",
                  "C"
                ],
                [
                  "2",
                  "3",
                  "1",
                  "3",
                  "Heikkinen, Miss. Laina",
                  "female",
                  "26.0",
                  "0",
                  "0",
                  "STON/O2. 3101282",
                  "7.925",
                  null,
                  "S"
                ],
                [
                  "3",
                  "4",
                  "1",
                  "1",
                  "Futrelle, Mrs. Jacques Heath (Lily May Peel)",
                  "female",
                  "35.0",
                  "1",
                  "0",
                  "113803",
                  "53.1",
                  "C123",
                  "S"
                ],
                [
                  "8",
                  "9",
                  "1",
                  "3",
                  "Johnson, Mrs. Oscar W (Elisabeth Vilhelmina Berg)",
                  "female",
                  "27.0",
                  "0",
                  "2",
                  "347742",
                  "11.1333",
                  null,
                  "S"
                ],
                [
                  "9",
                  "10",
                  "1",
                  "2",
                  "Nasser, Mrs. Nicholas (Adele Achem)",
                  "female",
                  "14.0",
                  "1",
                  "0",
                  "237736",
                  "30.0708",
                  null,
                  "C"
                ]
              ],
              "shape": {
                "columns": 12,
                "rows": 5
              }
            },
            "text/html": [
              "<div>\n",
              "<style scoped>\n",
              "    .dataframe tbody tr th:only-of-type {\n",
              "        vertical-align: middle;\n",
              "    }\n",
              "\n",
              "    .dataframe tbody tr th {\n",
              "        vertical-align: top;\n",
              "    }\n",
              "\n",
              "    .dataframe thead th {\n",
              "        text-align: right;\n",
              "    }\n",
              "</style>\n",
              "<table border=\"1\" class=\"dataframe\">\n",
              "  <thead>\n",
              "    <tr style=\"text-align: right;\">\n",
              "      <th></th>\n",
              "      <th>PassengerId</th>\n",
              "      <th>Survived</th>\n",
              "      <th>Pclass</th>\n",
              "      <th>Name</th>\n",
              "      <th>Sex</th>\n",
              "      <th>Age</th>\n",
              "      <th>SibSp</th>\n",
              "      <th>Parch</th>\n",
              "      <th>Ticket</th>\n",
              "      <th>Fare</th>\n",
              "      <th>Cabin</th>\n",
              "      <th>Embarked</th>\n",
              "    </tr>\n",
              "  </thead>\n",
              "  <tbody>\n",
              "    <tr>\n",
              "      <th>1</th>\n",
              "      <td>2</td>\n",
              "      <td>1</td>\n",
              "      <td>1</td>\n",
              "      <td>Cumings, Mrs. John Bradley (Florence Briggs Th...</td>\n",
              "      <td>female</td>\n",
              "      <td>38.0</td>\n",
              "      <td>1</td>\n",
              "      <td>0</td>\n",
              "      <td>PC 17599</td>\n",
              "      <td>71.2833</td>\n",
              "      <td>C85</td>\n",
              "      <td>C</td>\n",
              "    </tr>\n",
              "    <tr>\n",
              "      <th>2</th>\n",
              "      <td>3</td>\n",
              "      <td>1</td>\n",
              "      <td>3</td>\n",
              "      <td>Heikkinen, Miss. Laina</td>\n",
              "      <td>female</td>\n",
              "      <td>26.0</td>\n",
              "      <td>0</td>\n",
              "      <td>0</td>\n",
              "      <td>STON/O2. 3101282</td>\n",
              "      <td>7.9250</td>\n",
              "      <td>NaN</td>\n",
              "      <td>S</td>\n",
              "    </tr>\n",
              "    <tr>\n",
              "      <th>3</th>\n",
              "      <td>4</td>\n",
              "      <td>1</td>\n",
              "      <td>1</td>\n",
              "      <td>Futrelle, Mrs. Jacques Heath (Lily May Peel)</td>\n",
              "      <td>female</td>\n",
              "      <td>35.0</td>\n",
              "      <td>1</td>\n",
              "      <td>0</td>\n",
              "      <td>113803</td>\n",
              "      <td>53.1000</td>\n",
              "      <td>C123</td>\n",
              "      <td>S</td>\n",
              "    </tr>\n",
              "    <tr>\n",
              "      <th>8</th>\n",
              "      <td>9</td>\n",
              "      <td>1</td>\n",
              "      <td>3</td>\n",
              "      <td>Johnson, Mrs. Oscar W (Elisabeth Vilhelmina Berg)</td>\n",
              "      <td>female</td>\n",
              "      <td>27.0</td>\n",
              "      <td>0</td>\n",
              "      <td>2</td>\n",
              "      <td>347742</td>\n",
              "      <td>11.1333</td>\n",
              "      <td>NaN</td>\n",
              "      <td>S</td>\n",
              "    </tr>\n",
              "    <tr>\n",
              "      <th>9</th>\n",
              "      <td>10</td>\n",
              "      <td>1</td>\n",
              "      <td>2</td>\n",
              "      <td>Nasser, Mrs. Nicholas (Adele Achem)</td>\n",
              "      <td>female</td>\n",
              "      <td>14.0</td>\n",
              "      <td>1</td>\n",
              "      <td>0</td>\n",
              "      <td>237736</td>\n",
              "      <td>30.0708</td>\n",
              "      <td>NaN</td>\n",
              "      <td>C</td>\n",
              "    </tr>\n",
              "  </tbody>\n",
              "</table>\n",
              "</div>"
            ],
            "text/plain": [
              "   PassengerId  Survived  Pclass  \\\n",
              "1            2         1       1   \n",
              "2            3         1       3   \n",
              "3            4         1       1   \n",
              "8            9         1       3   \n",
              "9           10         1       2   \n",
              "\n",
              "                                                Name     Sex   Age  SibSp  \\\n",
              "1  Cumings, Mrs. John Bradley (Florence Briggs Th...  female  38.0      1   \n",
              "2                             Heikkinen, Miss. Laina  female  26.0      0   \n",
              "3       Futrelle, Mrs. Jacques Heath (Lily May Peel)  female  35.0      1   \n",
              "8  Johnson, Mrs. Oscar W (Elisabeth Vilhelmina Berg)  female  27.0      0   \n",
              "9                Nasser, Mrs. Nicholas (Adele Achem)  female  14.0      1   \n",
              "\n",
              "   Parch            Ticket     Fare Cabin Embarked  \n",
              "1      0          PC 17599  71.2833   C85        C  \n",
              "2      0  STON/O2. 3101282   7.9250   NaN        S  \n",
              "3      0            113803  53.1000  C123        S  \n",
              "8      2            347742  11.1333   NaN        S  \n",
              "9      0            237736  30.0708   NaN        C  "
            ]
          },
          "execution_count": 42,
          "metadata": {},
          "output_type": "execute_result"
        }
      ],
      "source": [
        "# 1️⃣ Menampilkan hanya penumpang perempuan\n",
        "female_passengers = df[df['Sex'] == 'female']\n",
        "\n",
        "# 2️⃣ Menampilkan hanya anak-anak (usia di bawah 18)\n",
        "children = df[df['Age'] < 18]\n",
        "\n",
        "# 3️⃣ Menampilkan hanya penumpang dengan Fare lebih dari 10 dan kurang dari sama dengan 30\n",
        "fare_range = df[(df['Fare'] > 10) & (df['Fare'] <= 30)]\n",
        "\n",
        "# 4️⃣ Menampilkan sepuluh teratas berdasarkan Fare tertinggi\n",
        "top_10_fare = df.nlargest(10, 'Fare')\n",
        "\n",
        "# Menampilkan hasil seleksi\n",
        "print(\"Penumpang Perempuan:\")\n",
        "female_passengers.head()\n"
      ]
    },
    {
      "cell_type": "code",
      "execution_count": 43,
      "metadata": {},
      "outputs": [
        {
          "name": "stdout",
          "output_type": "stream",
          "text": [
            "Anak-anak (usia di bawah 18):\n"
          ]
        },
        {
          "data": {
            "application/vnd.microsoft.datawrangler.viewer.v0+json": {
              "columns": [
                {
                  "name": "index",
                  "rawType": "int64",
                  "type": "integer"
                },
                {
                  "name": "PassengerId",
                  "rawType": "int64",
                  "type": "integer"
                },
                {
                  "name": "Survived",
                  "rawType": "int64",
                  "type": "integer"
                },
                {
                  "name": "Pclass",
                  "rawType": "int64",
                  "type": "integer"
                },
                {
                  "name": "Name",
                  "rawType": "object",
                  "type": "string"
                },
                {
                  "name": "Sex",
                  "rawType": "object",
                  "type": "string"
                },
                {
                  "name": "Age",
                  "rawType": "float64",
                  "type": "float"
                },
                {
                  "name": "SibSp",
                  "rawType": "int64",
                  "type": "integer"
                },
                {
                  "name": "Parch",
                  "rawType": "int64",
                  "type": "integer"
                },
                {
                  "name": "Ticket",
                  "rawType": "object",
                  "type": "string"
                },
                {
                  "name": "Fare",
                  "rawType": "float64",
                  "type": "float"
                },
                {
                  "name": "Cabin",
                  "rawType": "object",
                  "type": "unknown"
                },
                {
                  "name": "Embarked",
                  "rawType": "object",
                  "type": "string"
                }
              ],
              "conversionMethod": "pd.DataFrame",
              "ref": "0ea18b53-c4b2-42c7-8744-786362a21e3c",
              "rows": [
                [
                  "7",
                  "8",
                  "0",
                  "3",
                  "Palsson, Master. Gosta Leonard",
                  "male",
                  "2.0",
                  "3",
                  "1",
                  "349909",
                  "21.075",
                  null,
                  "S"
                ],
                [
                  "9",
                  "10",
                  "1",
                  "2",
                  "Nasser, Mrs. Nicholas (Adele Achem)",
                  "female",
                  "14.0",
                  "1",
                  "0",
                  "237736",
                  "30.0708",
                  null,
                  "C"
                ],
                [
                  "10",
                  "11",
                  "1",
                  "3",
                  "Sandstrom, Miss. Marguerite Rut",
                  "female",
                  "4.0",
                  "1",
                  "1",
                  "PP 9549",
                  "16.7",
                  "G6",
                  "S"
                ],
                [
                  "14",
                  "15",
                  "0",
                  "3",
                  "Vestrom, Miss. Hulda Amanda Adolfina",
                  "female",
                  "14.0",
                  "0",
                  "0",
                  "350406",
                  "7.8542",
                  null,
                  "S"
                ],
                [
                  "16",
                  "17",
                  "0",
                  "3",
                  "Rice, Master. Eugene",
                  "male",
                  "2.0",
                  "4",
                  "1",
                  "382652",
                  "29.125",
                  null,
                  "Q"
                ]
              ],
              "shape": {
                "columns": 12,
                "rows": 5
              }
            },
            "text/html": [
              "<div>\n",
              "<style scoped>\n",
              "    .dataframe tbody tr th:only-of-type {\n",
              "        vertical-align: middle;\n",
              "    }\n",
              "\n",
              "    .dataframe tbody tr th {\n",
              "        vertical-align: top;\n",
              "    }\n",
              "\n",
              "    .dataframe thead th {\n",
              "        text-align: right;\n",
              "    }\n",
              "</style>\n",
              "<table border=\"1\" class=\"dataframe\">\n",
              "  <thead>\n",
              "    <tr style=\"text-align: right;\">\n",
              "      <th></th>\n",
              "      <th>PassengerId</th>\n",
              "      <th>Survived</th>\n",
              "      <th>Pclass</th>\n",
              "      <th>Name</th>\n",
              "      <th>Sex</th>\n",
              "      <th>Age</th>\n",
              "      <th>SibSp</th>\n",
              "      <th>Parch</th>\n",
              "      <th>Ticket</th>\n",
              "      <th>Fare</th>\n",
              "      <th>Cabin</th>\n",
              "      <th>Embarked</th>\n",
              "    </tr>\n",
              "  </thead>\n",
              "  <tbody>\n",
              "    <tr>\n",
              "      <th>7</th>\n",
              "      <td>8</td>\n",
              "      <td>0</td>\n",
              "      <td>3</td>\n",
              "      <td>Palsson, Master. Gosta Leonard</td>\n",
              "      <td>male</td>\n",
              "      <td>2.0</td>\n",
              "      <td>3</td>\n",
              "      <td>1</td>\n",
              "      <td>349909</td>\n",
              "      <td>21.0750</td>\n",
              "      <td>NaN</td>\n",
              "      <td>S</td>\n",
              "    </tr>\n",
              "    <tr>\n",
              "      <th>9</th>\n",
              "      <td>10</td>\n",
              "      <td>1</td>\n",
              "      <td>2</td>\n",
              "      <td>Nasser, Mrs. Nicholas (Adele Achem)</td>\n",
              "      <td>female</td>\n",
              "      <td>14.0</td>\n",
              "      <td>1</td>\n",
              "      <td>0</td>\n",
              "      <td>237736</td>\n",
              "      <td>30.0708</td>\n",
              "      <td>NaN</td>\n",
              "      <td>C</td>\n",
              "    </tr>\n",
              "    <tr>\n",
              "      <th>10</th>\n",
              "      <td>11</td>\n",
              "      <td>1</td>\n",
              "      <td>3</td>\n",
              "      <td>Sandstrom, Miss. Marguerite Rut</td>\n",
              "      <td>female</td>\n",
              "      <td>4.0</td>\n",
              "      <td>1</td>\n",
              "      <td>1</td>\n",
              "      <td>PP 9549</td>\n",
              "      <td>16.7000</td>\n",
              "      <td>G6</td>\n",
              "      <td>S</td>\n",
              "    </tr>\n",
              "    <tr>\n",
              "      <th>14</th>\n",
              "      <td>15</td>\n",
              "      <td>0</td>\n",
              "      <td>3</td>\n",
              "      <td>Vestrom, Miss. Hulda Amanda Adolfina</td>\n",
              "      <td>female</td>\n",
              "      <td>14.0</td>\n",
              "      <td>0</td>\n",
              "      <td>0</td>\n",
              "      <td>350406</td>\n",
              "      <td>7.8542</td>\n",
              "      <td>NaN</td>\n",
              "      <td>S</td>\n",
              "    </tr>\n",
              "    <tr>\n",
              "      <th>16</th>\n",
              "      <td>17</td>\n",
              "      <td>0</td>\n",
              "      <td>3</td>\n",
              "      <td>Rice, Master. Eugene</td>\n",
              "      <td>male</td>\n",
              "      <td>2.0</td>\n",
              "      <td>4</td>\n",
              "      <td>1</td>\n",
              "      <td>382652</td>\n",
              "      <td>29.1250</td>\n",
              "      <td>NaN</td>\n",
              "      <td>Q</td>\n",
              "    </tr>\n",
              "  </tbody>\n",
              "</table>\n",
              "</div>"
            ],
            "text/plain": [
              "    PassengerId  Survived  Pclass                                  Name  \\\n",
              "7             8         0       3        Palsson, Master. Gosta Leonard   \n",
              "9            10         1       2   Nasser, Mrs. Nicholas (Adele Achem)   \n",
              "10           11         1       3       Sandstrom, Miss. Marguerite Rut   \n",
              "14           15         0       3  Vestrom, Miss. Hulda Amanda Adolfina   \n",
              "16           17         0       3                  Rice, Master. Eugene   \n",
              "\n",
              "       Sex   Age  SibSp  Parch   Ticket     Fare Cabin Embarked  \n",
              "7     male   2.0      3      1   349909  21.0750   NaN        S  \n",
              "9   female  14.0      1      0   237736  30.0708   NaN        C  \n",
              "10  female   4.0      1      1  PP 9549  16.7000    G6        S  \n",
              "14  female  14.0      0      0   350406   7.8542   NaN        S  \n",
              "16    male   2.0      4      1   382652  29.1250   NaN        Q  "
            ]
          },
          "execution_count": 43,
          "metadata": {},
          "output_type": "execute_result"
        }
      ],
      "source": [
        "print(\"Anak-anak (usia di bawah 18):\")\n",
        "children.head()"
      ]
    },
    {
      "cell_type": "code",
      "execution_count": 44,
      "metadata": {},
      "outputs": [
        {
          "name": "stdout",
          "output_type": "stream",
          "text": [
            "Penumpang dengan Fare lebih dari 10 dan kurang dari sama dengan 30:\n"
          ]
        },
        {
          "data": {
            "application/vnd.microsoft.datawrangler.viewer.v0+json": {
              "columns": [
                {
                  "name": "index",
                  "rawType": "int64",
                  "type": "integer"
                },
                {
                  "name": "PassengerId",
                  "rawType": "int64",
                  "type": "integer"
                },
                {
                  "name": "Survived",
                  "rawType": "int64",
                  "type": "integer"
                },
                {
                  "name": "Pclass",
                  "rawType": "int64",
                  "type": "integer"
                },
                {
                  "name": "Name",
                  "rawType": "object",
                  "type": "string"
                },
                {
                  "name": "Sex",
                  "rawType": "object",
                  "type": "string"
                },
                {
                  "name": "Age",
                  "rawType": "float64",
                  "type": "float"
                },
                {
                  "name": "SibSp",
                  "rawType": "int64",
                  "type": "integer"
                },
                {
                  "name": "Parch",
                  "rawType": "int64",
                  "type": "integer"
                },
                {
                  "name": "Ticket",
                  "rawType": "object",
                  "type": "string"
                },
                {
                  "name": "Fare",
                  "rawType": "float64",
                  "type": "float"
                },
                {
                  "name": "Cabin",
                  "rawType": "object",
                  "type": "unknown"
                },
                {
                  "name": "Embarked",
                  "rawType": "object",
                  "type": "string"
                }
              ],
              "conversionMethod": "pd.DataFrame",
              "ref": "93f2f02b-4914-4b3d-a214-0c30c460404d",
              "rows": [
                [
                  "7",
                  "8",
                  "0",
                  "3",
                  "Palsson, Master. Gosta Leonard",
                  "male",
                  "2.0",
                  "3",
                  "1",
                  "349909",
                  "21.075",
                  null,
                  "S"
                ],
                [
                  "8",
                  "9",
                  "1",
                  "3",
                  "Johnson, Mrs. Oscar W (Elisabeth Vilhelmina Berg)",
                  "female",
                  "27.0",
                  "0",
                  "2",
                  "347742",
                  "11.1333",
                  null,
                  "S"
                ],
                [
                  "10",
                  "11",
                  "1",
                  "3",
                  "Sandstrom, Miss. Marguerite Rut",
                  "female",
                  "4.0",
                  "1",
                  "1",
                  "PP 9549",
                  "16.7",
                  "G6",
                  "S"
                ],
                [
                  "11",
                  "12",
                  "1",
                  "1",
                  "Bonnell, Miss. Elizabeth",
                  "female",
                  "58.0",
                  "0",
                  "0",
                  "113783",
                  "26.55",
                  "C103",
                  "S"
                ],
                [
                  "15",
                  "16",
                  "1",
                  "2",
                  "Hewlett, Mrs. (Mary D Kingcome) ",
                  "female",
                  "55.0",
                  "0",
                  "0",
                  "248706",
                  "16.0",
                  null,
                  "S"
                ]
              ],
              "shape": {
                "columns": 12,
                "rows": 5
              }
            },
            "text/html": [
              "<div>\n",
              "<style scoped>\n",
              "    .dataframe tbody tr th:only-of-type {\n",
              "        vertical-align: middle;\n",
              "    }\n",
              "\n",
              "    .dataframe tbody tr th {\n",
              "        vertical-align: top;\n",
              "    }\n",
              "\n",
              "    .dataframe thead th {\n",
              "        text-align: right;\n",
              "    }\n",
              "</style>\n",
              "<table border=\"1\" class=\"dataframe\">\n",
              "  <thead>\n",
              "    <tr style=\"text-align: right;\">\n",
              "      <th></th>\n",
              "      <th>PassengerId</th>\n",
              "      <th>Survived</th>\n",
              "      <th>Pclass</th>\n",
              "      <th>Name</th>\n",
              "      <th>Sex</th>\n",
              "      <th>Age</th>\n",
              "      <th>SibSp</th>\n",
              "      <th>Parch</th>\n",
              "      <th>Ticket</th>\n",
              "      <th>Fare</th>\n",
              "      <th>Cabin</th>\n",
              "      <th>Embarked</th>\n",
              "    </tr>\n",
              "  </thead>\n",
              "  <tbody>\n",
              "    <tr>\n",
              "      <th>7</th>\n",
              "      <td>8</td>\n",
              "      <td>0</td>\n",
              "      <td>3</td>\n",
              "      <td>Palsson, Master. Gosta Leonard</td>\n",
              "      <td>male</td>\n",
              "      <td>2.0</td>\n",
              "      <td>3</td>\n",
              "      <td>1</td>\n",
              "      <td>349909</td>\n",
              "      <td>21.0750</td>\n",
              "      <td>NaN</td>\n",
              "      <td>S</td>\n",
              "    </tr>\n",
              "    <tr>\n",
              "      <th>8</th>\n",
              "      <td>9</td>\n",
              "      <td>1</td>\n",
              "      <td>3</td>\n",
              "      <td>Johnson, Mrs. Oscar W (Elisabeth Vilhelmina Berg)</td>\n",
              "      <td>female</td>\n",
              "      <td>27.0</td>\n",
              "      <td>0</td>\n",
              "      <td>2</td>\n",
              "      <td>347742</td>\n",
              "      <td>11.1333</td>\n",
              "      <td>NaN</td>\n",
              "      <td>S</td>\n",
              "    </tr>\n",
              "    <tr>\n",
              "      <th>10</th>\n",
              "      <td>11</td>\n",
              "      <td>1</td>\n",
              "      <td>3</td>\n",
              "      <td>Sandstrom, Miss. Marguerite Rut</td>\n",
              "      <td>female</td>\n",
              "      <td>4.0</td>\n",
              "      <td>1</td>\n",
              "      <td>1</td>\n",
              "      <td>PP 9549</td>\n",
              "      <td>16.7000</td>\n",
              "      <td>G6</td>\n",
              "      <td>S</td>\n",
              "    </tr>\n",
              "    <tr>\n",
              "      <th>11</th>\n",
              "      <td>12</td>\n",
              "      <td>1</td>\n",
              "      <td>1</td>\n",
              "      <td>Bonnell, Miss. Elizabeth</td>\n",
              "      <td>female</td>\n",
              "      <td>58.0</td>\n",
              "      <td>0</td>\n",
              "      <td>0</td>\n",
              "      <td>113783</td>\n",
              "      <td>26.5500</td>\n",
              "      <td>C103</td>\n",
              "      <td>S</td>\n",
              "    </tr>\n",
              "    <tr>\n",
              "      <th>15</th>\n",
              "      <td>16</td>\n",
              "      <td>1</td>\n",
              "      <td>2</td>\n",
              "      <td>Hewlett, Mrs. (Mary D Kingcome)</td>\n",
              "      <td>female</td>\n",
              "      <td>55.0</td>\n",
              "      <td>0</td>\n",
              "      <td>0</td>\n",
              "      <td>248706</td>\n",
              "      <td>16.0000</td>\n",
              "      <td>NaN</td>\n",
              "      <td>S</td>\n",
              "    </tr>\n",
              "  </tbody>\n",
              "</table>\n",
              "</div>"
            ],
            "text/plain": [
              "    PassengerId  Survived  Pclass  \\\n",
              "7             8         0       3   \n",
              "8             9         1       3   \n",
              "10           11         1       3   \n",
              "11           12         1       1   \n",
              "15           16         1       2   \n",
              "\n",
              "                                                 Name     Sex   Age  SibSp  \\\n",
              "7                      Palsson, Master. Gosta Leonard    male   2.0      3   \n",
              "8   Johnson, Mrs. Oscar W (Elisabeth Vilhelmina Berg)  female  27.0      0   \n",
              "10                    Sandstrom, Miss. Marguerite Rut  female   4.0      1   \n",
              "11                           Bonnell, Miss. Elizabeth  female  58.0      0   \n",
              "15                   Hewlett, Mrs. (Mary D Kingcome)   female  55.0      0   \n",
              "\n",
              "    Parch   Ticket     Fare Cabin Embarked  \n",
              "7       1   349909  21.0750   NaN        S  \n",
              "8       2   347742  11.1333   NaN        S  \n",
              "10      1  PP 9549  16.7000    G6        S  \n",
              "11      0   113783  26.5500  C103        S  \n",
              "15      0   248706  16.0000   NaN        S  "
            ]
          },
          "execution_count": 44,
          "metadata": {},
          "output_type": "execute_result"
        }
      ],
      "source": [
        "print(\"Penumpang dengan Fare lebih dari 10 dan kurang dari sama dengan 30:\")\n",
        "fare_range.head()"
      ]
    },
    {
      "cell_type": "code",
      "execution_count": 45,
      "metadata": {},
      "outputs": [
        {
          "name": "stdout",
          "output_type": "stream",
          "text": [
            "Sepuluh Penumpang dengan Fare Tertinggi:\n"
          ]
        },
        {
          "data": {
            "application/vnd.microsoft.datawrangler.viewer.v0+json": {
              "columns": [
                {
                  "name": "index",
                  "rawType": "int64",
                  "type": "integer"
                },
                {
                  "name": "Name",
                  "rawType": "object",
                  "type": "string"
                },
                {
                  "name": "Fare",
                  "rawType": "float64",
                  "type": "float"
                }
              ],
              "conversionMethod": "pd.DataFrame",
              "ref": "23a12975-e1a6-4e9a-9683-3774f83961c9",
              "rows": [
                [
                  "258",
                  "Ward, Miss. Anna",
                  "512.3292"
                ],
                [
                  "679",
                  "Cardeza, Mr. Thomas Drake Martinez",
                  "512.3292"
                ],
                [
                  "737",
                  "Lesurer, Mr. Gustave J",
                  "512.3292"
                ],
                [
                  "27",
                  "Fortune, Mr. Charles Alexander",
                  "263.0"
                ],
                [
                  "88",
                  "Fortune, Miss. Mabel Helen",
                  "263.0"
                ]
              ],
              "shape": {
                "columns": 2,
                "rows": 5
              }
            },
            "text/html": [
              "<div>\n",
              "<style scoped>\n",
              "    .dataframe tbody tr th:only-of-type {\n",
              "        vertical-align: middle;\n",
              "    }\n",
              "\n",
              "    .dataframe tbody tr th {\n",
              "        vertical-align: top;\n",
              "    }\n",
              "\n",
              "    .dataframe thead th {\n",
              "        text-align: right;\n",
              "    }\n",
              "</style>\n",
              "<table border=\"1\" class=\"dataframe\">\n",
              "  <thead>\n",
              "    <tr style=\"text-align: right;\">\n",
              "      <th></th>\n",
              "      <th>Name</th>\n",
              "      <th>Fare</th>\n",
              "    </tr>\n",
              "  </thead>\n",
              "  <tbody>\n",
              "    <tr>\n",
              "      <th>258</th>\n",
              "      <td>Ward, Miss. Anna</td>\n",
              "      <td>512.3292</td>\n",
              "    </tr>\n",
              "    <tr>\n",
              "      <th>679</th>\n",
              "      <td>Cardeza, Mr. Thomas Drake Martinez</td>\n",
              "      <td>512.3292</td>\n",
              "    </tr>\n",
              "    <tr>\n",
              "      <th>737</th>\n",
              "      <td>Lesurer, Mr. Gustave J</td>\n",
              "      <td>512.3292</td>\n",
              "    </tr>\n",
              "    <tr>\n",
              "      <th>27</th>\n",
              "      <td>Fortune, Mr. Charles Alexander</td>\n",
              "      <td>263.0000</td>\n",
              "    </tr>\n",
              "    <tr>\n",
              "      <th>88</th>\n",
              "      <td>Fortune, Miss. Mabel Helen</td>\n",
              "      <td>263.0000</td>\n",
              "    </tr>\n",
              "  </tbody>\n",
              "</table>\n",
              "</div>"
            ],
            "text/plain": [
              "                                   Name      Fare\n",
              "258                    Ward, Miss. Anna  512.3292\n",
              "679  Cardeza, Mr. Thomas Drake Martinez  512.3292\n",
              "737              Lesurer, Mr. Gustave J  512.3292\n",
              "27       Fortune, Mr. Charles Alexander  263.0000\n",
              "88           Fortune, Miss. Mabel Helen  263.0000"
            ]
          },
          "execution_count": 45,
          "metadata": {},
          "output_type": "execute_result"
        }
      ],
      "source": [
        "print(\"Sepuluh Penumpang dengan Fare Tertinggi:\")\n",
        "top_10_fare[['Name', 'Fare']].head()"
      ]
    },
    {
      "cell_type": "markdown",
      "metadata": {
        "id": "f9GeeoE7iIhC"
      },
      "source": [
        "## **📌 Soal 4: Menghitung Jumlah Nilai Unik** 🔢  \n",
        "\n",
        "### **Penjelasan:**  \n",
        "Terkadang kita perlu mengetahui **jumlah kategori unik** dalam suatu kolom.  \n",
        "Misalnya, di dataset Titanic, kita ingin tahu:  \n",
        "- **Berapa kelas tiket (`Pclass`) yang tersedia?**  \n",
        "- **Berapa pelabuhan keberangkatan (`Embarked`) yang digunakan?**  "
      ]
    },
    {
      "cell_type": "code",
      "execution_count": 46,
      "metadata": {
        "id": "uqsmqsMpiKKz"
      },
      "outputs": [
        {
          "name": "stdout",
          "output_type": "stream",
          "text": [
            "Jumlah kelas tiket (Pclass) yang tersedia: 3\n",
            "Jumlah pelabuhan keberangkatan (Embarked) yang digunakan: 3\n"
          ]
        }
      ],
      "source": [
        "# 1️⃣ Menghitung jumlah nilai unik pada kolom 'Pclass' (kelas tiket)\n",
        "unique_pclass = df['Pclass'].nunique()\n",
        "\n",
        "# 2️⃣ Menghitung jumlah nilai unik pada kolom 'Embarked' (pelabuhan keberangkatan)\n",
        "unique_embarked = df['Embarked'].nunique()\n",
        "\n",
        "# Menampilkan hasil\n",
        "print(f\"Jumlah kelas tiket (Pclass) yang tersedia: {unique_pclass}\")\n",
        "print(f\"Jumlah pelabuhan keberangkatan (Embarked) yang digunakan: {unique_embarked}\")"
      ]
    },
    {
      "cell_type": "markdown",
      "metadata": {},
      "source": [
        "## **📌 Soal 5: Menampilkan Jumlah Penumpang dalam Setiap Kelas** 🎟️  \n",
        "\n",
        "### **Penjelasan:**  \n",
        "Hitung jumlah **penumpang** berdasarkan **kelas tiket**.  \n",
        "Coba lihat distribusi penumpang di masing-masing kelas!  "
      ]
    },
    {
      "cell_type": "code",
      "execution_count": 47,
      "metadata": {},
      "outputs": [
        {
          "name": "stdout",
          "output_type": "stream",
          "text": [
            "Jumlah Penumpang di Setiap Kelas Tiket:\n"
          ]
        },
        {
          "data": {
            "text/plain": [
              "Pclass\n",
              "3    491\n",
              "1    216\n",
              "2    184\n",
              "Name: count, dtype: int64"
            ]
          },
          "execution_count": 47,
          "metadata": {},
          "output_type": "execute_result"
        }
      ],
      "source": [
        "# Menghitung jumlah penumpang berdasarkan kelas tiket (Pclass)\n",
        "passenger_count_by_class = df['Pclass'].value_counts()\n",
        "\n",
        "# Menampilkan jumlah penumpang di setiap kelas tiket\n",
        "print(\"Jumlah Penumpang di Setiap Kelas Tiket:\")\n",
        "passenger_count_by_class"
      ]
    },
    {
      "cell_type": "markdown",
      "metadata": {},
      "source": [
        "## **📌 Soal 6: Mengelompokkan Data Berdasarkan Kelas Tiket** 🎟️  \n",
        "\n",
        "### **Penjelasan:**  \n",
        "Kelompokkan data berdasarkan **kelas tiket**, lalu cari tahu:  \n",
        "- **Rata-rata usia penumpang di setiap kelas**\n",
        "- **Jumlah orang yang bertahan hidup**  "
      ]
    },
    {
      "cell_type": "code",
      "execution_count": 48,
      "metadata": {},
      "outputs": [
        {
          "name": "stdout",
          "output_type": "stream",
          "text": [
            "Rata-rata Usia Penumpang di Setiap Kelas Tiket:\n",
            "Pclass\n",
            "1    38.233441\n",
            "2    29.877630\n",
            "3    25.140620\n",
            "Name: Age, dtype: float64 \n",
            "\n",
            "Jumlah Orang yang Bertahan Hidup di Setiap Kelas Tiket:\n",
            "Pclass\n",
            "1    136\n",
            "2     87\n",
            "3    119\n",
            "Name: Survived, dtype: int64\n"
          ]
        }
      ],
      "source": [
        "# Mengelompokkan data berdasarkan kelas tiket (Pclass)\n",
        "grouped_by_class = df.groupby('Pclass')\n",
        "\n",
        "# 1️⃣ Rata-rata usia penumpang di setiap kelas tiket\n",
        "average_age_by_class = grouped_by_class['Age'].mean()\n",
        "\n",
        "# 2️⃣ Jumlah orang yang bertahan hidup di setiap kelas tiket\n",
        "survival_count_by_class = grouped_by_class['Survived'].sum()\n",
        "\n",
        "# Menampilkan hasil\n",
        "print(\"Rata-rata Usia Penumpang di Setiap Kelas Tiket:\")\n",
        "print(average_age_by_class, \"\\n\")\n",
        "\n",
        "print(\"Jumlah Orang yang Bertahan Hidup di Setiap Kelas Tiket:\")\n",
        "print(survival_count_by_class)"
      ]
    },
    {
      "cell_type": "markdown",
      "metadata": {},
      "source": [
        "## **📌 Soal 7: Menambahkan Kolom Baru Berdasarkan Kategori Usia** 🏷️  \n",
        "\n",
        "### **Penjelasan:**  \n",
        "Buatlah kolom baru bernama **\"Age Category\"**, dengan ketentuan berikut:  \n",
        "- **\"Child\"** jika umur di bawah 18  \n",
        "- **\"Adult\"** jika umur 18 ke atas  "
      ]
    },
    {
      "cell_type": "code",
      "execution_count": 49,
      "metadata": {},
      "outputs": [
        {
          "data": {
            "application/vnd.microsoft.datawrangler.viewer.v0+json": {
              "columns": [
                {
                  "name": "index",
                  "rawType": "int64",
                  "type": "integer"
                },
                {
                  "name": "Age",
                  "rawType": "float64",
                  "type": "float"
                },
                {
                  "name": "Age Category",
                  "rawType": "object",
                  "type": "string"
                }
              ],
              "conversionMethod": "pd.DataFrame",
              "ref": "3ca3e46a-2eda-450d-b969-dcd473b1e38c",
              "rows": [
                [
                  "0",
                  "22.0",
                  "Adult"
                ],
                [
                  "1",
                  "38.0",
                  "Adult"
                ],
                [
                  "2",
                  "26.0",
                  "Adult"
                ],
                [
                  "3",
                  "35.0",
                  "Adult"
                ],
                [
                  "4",
                  "35.0",
                  "Adult"
                ]
              ],
              "shape": {
                "columns": 2,
                "rows": 5
              }
            },
            "text/html": [
              "<div>\n",
              "<style scoped>\n",
              "    .dataframe tbody tr th:only-of-type {\n",
              "        vertical-align: middle;\n",
              "    }\n",
              "\n",
              "    .dataframe tbody tr th {\n",
              "        vertical-align: top;\n",
              "    }\n",
              "\n",
              "    .dataframe thead th {\n",
              "        text-align: right;\n",
              "    }\n",
              "</style>\n",
              "<table border=\"1\" class=\"dataframe\">\n",
              "  <thead>\n",
              "    <tr style=\"text-align: right;\">\n",
              "      <th></th>\n",
              "      <th>Age</th>\n",
              "      <th>Age Category</th>\n",
              "    </tr>\n",
              "  </thead>\n",
              "  <tbody>\n",
              "    <tr>\n",
              "      <th>0</th>\n",
              "      <td>22.0</td>\n",
              "      <td>Adult</td>\n",
              "    </tr>\n",
              "    <tr>\n",
              "      <th>1</th>\n",
              "      <td>38.0</td>\n",
              "      <td>Adult</td>\n",
              "    </tr>\n",
              "    <tr>\n",
              "      <th>2</th>\n",
              "      <td>26.0</td>\n",
              "      <td>Adult</td>\n",
              "    </tr>\n",
              "    <tr>\n",
              "      <th>3</th>\n",
              "      <td>35.0</td>\n",
              "      <td>Adult</td>\n",
              "    </tr>\n",
              "    <tr>\n",
              "      <th>4</th>\n",
              "      <td>35.0</td>\n",
              "      <td>Adult</td>\n",
              "    </tr>\n",
              "  </tbody>\n",
              "</table>\n",
              "</div>"
            ],
            "text/plain": [
              "    Age Age Category\n",
              "0  22.0        Adult\n",
              "1  38.0        Adult\n",
              "2  26.0        Adult\n",
              "3  35.0        Adult\n",
              "4  35.0        Adult"
            ]
          },
          "execution_count": 49,
          "metadata": {},
          "output_type": "execute_result"
        }
      ],
      "source": [
        "# Menambahkan kolom \"Age Category\" berdasarkan usia\n",
        "df['Age Category'] = df['Age'].apply(lambda x: 'Child' if x < 18 else 'Adult')\n",
        "\n",
        "# Menampilkan beberapa baris pertama untuk melihat kolom baru\n",
        "df[['Age', 'Age Category']].head()"
      ]
    },
    {
      "cell_type": "markdown",
      "metadata": {},
      "source": [
        "## **📌 Soal 8: Menghapus Data Kosong** ⚠️  \n",
        "\n",
        "### **Penjelasan:**  \n",
        "Hapus semua **baris** yang memiliki **nilai kosong pada kolom \"Age\"**.  \n",
        "Kemudian, tampilkan jumlah baris setelah penghapusan.  "
      ]
    },
    {
      "cell_type": "code",
      "execution_count": 50,
      "metadata": {},
      "outputs": [
        {
          "name": "stdout",
          "output_type": "stream",
          "text": [
            "Jumlah baris setelah penghapusan: 714\n"
          ]
        }
      ],
      "source": [
        "# Menghapus baris yang memiliki nilai kosong pada kolom 'Age'\n",
        "df_cleaned = df.dropna(subset=['Age'])\n",
        "\n",
        "# Menampilkan jumlah baris setelah penghapusan\n",
        "print(f\"Jumlah baris setelah penghapusan: {df_cleaned.shape[0]}\")\n"
      ]
    },
    {
      "cell_type": "markdown",
      "metadata": {},
      "source": [
        "## **📌 Soal 9: Sorting Data** 🔽🔼  \n",
        "\n",
        "### **Penjelasan:**  \n",
        "Urutkan dataset berdasarkan:  \n",
        "- **\"Fare\" secara descending** (tertinggi ke terendah)  \n",
        "- **\"Age\" secara ascending** (termuda ke tertua)  "
      ]
    },
    {
      "cell_type": "code",
      "execution_count": 51,
      "metadata": {},
      "outputs": [
        {
          "data": {
            "application/vnd.microsoft.datawrangler.viewer.v0+json": {
              "columns": [
                {
                  "name": "index",
                  "rawType": "int64",
                  "type": "integer"
                },
                {
                  "name": "Fare",
                  "rawType": "float64",
                  "type": "float"
                },
                {
                  "name": "Age",
                  "rawType": "float64",
                  "type": "float"
                }
              ],
              "conversionMethod": "pd.DataFrame",
              "ref": "b2efbc6a-10f7-4a8d-83d0-59db357614da",
              "rows": [
                [
                  "258",
                  "512.3292",
                  "35.0"
                ],
                [
                  "737",
                  "512.3292",
                  "35.0"
                ],
                [
                  "679",
                  "512.3292",
                  "36.0"
                ],
                [
                  "27",
                  "263.0",
                  "19.0"
                ],
                [
                  "88",
                  "263.0",
                  "23.0"
                ]
              ],
              "shape": {
                "columns": 2,
                "rows": 5
              }
            },
            "text/html": [
              "<div>\n",
              "<style scoped>\n",
              "    .dataframe tbody tr th:only-of-type {\n",
              "        vertical-align: middle;\n",
              "    }\n",
              "\n",
              "    .dataframe tbody tr th {\n",
              "        vertical-align: top;\n",
              "    }\n",
              "\n",
              "    .dataframe thead th {\n",
              "        text-align: right;\n",
              "    }\n",
              "</style>\n",
              "<table border=\"1\" class=\"dataframe\">\n",
              "  <thead>\n",
              "    <tr style=\"text-align: right;\">\n",
              "      <th></th>\n",
              "      <th>Fare</th>\n",
              "      <th>Age</th>\n",
              "    </tr>\n",
              "  </thead>\n",
              "  <tbody>\n",
              "    <tr>\n",
              "      <th>258</th>\n",
              "      <td>512.3292</td>\n",
              "      <td>35.0</td>\n",
              "    </tr>\n",
              "    <tr>\n",
              "      <th>737</th>\n",
              "      <td>512.3292</td>\n",
              "      <td>35.0</td>\n",
              "    </tr>\n",
              "    <tr>\n",
              "      <th>679</th>\n",
              "      <td>512.3292</td>\n",
              "      <td>36.0</td>\n",
              "    </tr>\n",
              "    <tr>\n",
              "      <th>27</th>\n",
              "      <td>263.0000</td>\n",
              "      <td>19.0</td>\n",
              "    </tr>\n",
              "    <tr>\n",
              "      <th>88</th>\n",
              "      <td>263.0000</td>\n",
              "      <td>23.0</td>\n",
              "    </tr>\n",
              "  </tbody>\n",
              "</table>\n",
              "</div>"
            ],
            "text/plain": [
              "         Fare   Age\n",
              "258  512.3292  35.0\n",
              "737  512.3292  35.0\n",
              "679  512.3292  36.0\n",
              "27   263.0000  19.0\n",
              "88   263.0000  23.0"
            ]
          },
          "execution_count": 51,
          "metadata": {},
          "output_type": "execute_result"
        }
      ],
      "source": [
        "# Mengurutkan data berdasarkan \"Fare\" secara descending dan \"Age\" secara ascending\n",
        "sorted_df = df.sort_values(by=['Fare', 'Age'], ascending=[False, True])\n",
        "\n",
        "# Menampilkan beberapa baris pertama untuk melihat hasil sorting\n",
        "sorted_df[['Fare', 'Age']].head()"
      ]
    },
    {
      "cell_type": "markdown",
      "metadata": {},
      "source": [
        "## **📌 Soal 10: Menyimpan DataFrame** 💾  \n",
        "\n",
        "### **Penjelasan:**  \n",
        "Setelah data diolah, kita mungkin ingin **menyimpannya ke file** agar bisa digunakan nanti.  \n",
        "Simpan dataset yang telah dibersihkan (tanpa nilai kosong pada \"Age\") ke dalam **file CSV**.  "
      ]
    },
    {
      "cell_type": "code",
      "execution_count": 52,
      "metadata": {},
      "outputs": [
        {
          "name": "stdout",
          "output_type": "stream",
          "text": [
            "Dataset telah disimpan sebagai 'titanic_cleaned.csv'\n"
          ]
        }
      ],
      "source": [
        "# Menyimpan DataFrame yang telah dibersihkan ke dalam file CSV\n",
        "df_cleaned.to_csv('titanic_cleaned.csv', index=False)\n",
        "\n",
        "# Menampilkan pesan bahwa file telah disimpan\n",
        "print(\"Dataset telah disimpan sebagai 'titanic_cleaned.csv'\")"
      ]
    },
    {
      "cell_type": "markdown",
      "metadata": {},
      "source": [
        "# **🎯 Conclusion**  \n",
        "\n",
        "Awesome job! 🎉 You’ve explored and analyzed the **Titanic dataset** using **Pandas**.  \n",
        "Keep digging deeper, because there’s always more to discover! 🚀📊  \n",
        "\n",
        "> **\"Data is like a chest in Minecraft—sometimes it’s full of treasure, sometimes it’s just dirt.\"** ⛏️😆  "
      ]
    }
  ],
  "metadata": {
    "colab": {
      "provenance": []
    },
    "kernelspec": {
      "display_name": "base",
      "language": "python",
      "name": "python3"
    },
    "language_info": {
      "codemirror_mode": {
        "name": "ipython",
        "version": 3
      },
      "file_extension": ".py",
      "mimetype": "text/x-python",
      "name": "python",
      "nbconvert_exporter": "python",
      "pygments_lexer": "ipython3",
      "version": "3.12.7"
    }
  },
  "nbformat": 4,
  "nbformat_minor": 0
}
